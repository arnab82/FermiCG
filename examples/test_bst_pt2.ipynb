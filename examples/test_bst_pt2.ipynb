{
 "cells": [
  {
   "cell_type": "code",
   "execution_count": 1,
   "metadata": {},
   "outputs": [
    {
     "name": "stdout",
     "output_type": "stream",
     "text": [
      " Remove duplicates\n"
     ]
    },
    {
     "name": "stdout",
     "output_type": "stream",
     "text": [
      " Number of terms reduced from  2525 to  1105\n",
      "IDX001:DIM0016:"
     ]
    },
    {
     "name": "stdout",
     "output_type": "stream",
     "text": [
      "001|002|\n"
     ]
    },
    {
     "name": "stdout",
     "output_type": "stream",
     "text": [
      "IDX002:DIM0016:003|004|\n"
     ]
    },
    {
     "name": "stdout",
     "output_type": "stream",
     "text": [
      "IDX003:DIM0256:005|006|007|008|\n"
     ]
    },
    {
     "name": "stdout",
     "output_type": "stream",
     "text": [
      "IDX004:DIM0016:009|010|\n"
     ]
    },
    {
     "name": "stdout",
     "output_type": "stream",
     "text": [
      "IDX005:DIM0016:011|012|\n"
     ]
    },
    {
     "name": "stdout",
     "output_type": "stream",
     "text": [
      " Number of tasks:                                         661\n",
      " Compute tasks:                                    "
     ]
    },
    {
     "name": "stdout",
     "output_type": "stream",
     "text": [
      " 60.414750 seconds (205.26 M allocations: 12.238 GiB, 3.94% gc time, 99.85% compilation time)\n",
      " Add results together:                             "
     ]
    },
    {
     "name": "stdout",
     "output_type": "stream",
     "text": [
      "  0.204085 seconds (822.57 k allocations: 55.321 MiB, 69.53% compilation time)\n"
     ]
    },
    {
     "name": "stdout",
     "output_type": "stream",
     "text": [
      " In open_matvec_thread\n",
      " Setup threaded jobs:                                0.000671 seconds (1.58 k allocations: 145.469 KiB)\n",
      " Number of jobs:    525\n",
      " Number of threads: 4\n"
     ]
    },
    {
     "name": "stdout",
     "output_type": "stream",
     "text": [
      " Compute matrix-vector:                            "
     ]
    },
    {
     "name": "stdout",
     "output_type": "stream",
     "text": [
      "  3.388449 seconds (15.24 M allocations: 732.094 MiB, 3.71% gc time, 99.80% compilation time)\n"
     ]
    },
    {
     "name": "stdout",
     "output_type": "stream",
     "text": [
      " Now collect thread results :                      "
     ]
    },
    {
     "name": "stdout",
     "output_type": "stream",
     "text": [
      "  0.013009 seconds (1.96 k allocations: 113.500 KiB, 96.61% compilation time)\n",
      "size(s_bst) = (16298, 1)\n",
      "size(s_tps) = (49378, 1)\n"
     ]
    }
   ],
   "source": [
    "using FermiCG\n",
    "using Printf\n",
    "using Test\n",
    "using JLD2 \n",
    "\n",
    "@load \"../test/_testdata_cmf_h12_64bit.jld2\"\n",
    "\n",
    "clustered_ham = FermiCG.extract_ClusteredTerms(ints, clusters)\n",
    "cluster_ops = FermiCG.compute_cluster_ops(cluster_bases, ints);\n",
    "FermiCG.add_cmf_operators!(cluster_ops, cluster_bases, ints, d1.a, d1.b);\n",
    "\n",
    "v_bst = FermiCG.BSTstate(clusters, FockConfig(init_fspace), cluster_bases)\n",
    "v_tps = FermiCG.TPSCIstate(clusters, FockConfig(init_fspace))\n",
    "FermiCG.eye!(v_tps)\n",
    "\n",
    "s_bst = FermiCG.build_compressed_1st_order_state(v_bst, cluster_ops, clustered_ham, nbody=4, thresh=1e-24)\n",
    "s_tps = FermiCG.open_matvec_thread(v_tps, cluster_ops, clustered_ham, thresh=1e-32)\n",
    "\n",
    "@show size(s_bst);\n",
    "@show size(s_tps);\n",
    "\n",
    "\n",
    "\n"
   ]
  },
  {
   "attachments": {},
   "cell_type": "markdown",
   "metadata": {},
   "source": [
    "# BST PT2"
   ]
  },
  {
   "cell_type": "code",
   "execution_count": 43,
   "metadata": {},
   "outputs": [
    {
     "name": "stdout",
     "output_type": "stream",
     "text": [
      " |== BST CI ========================================================\n",
      " Solve CI with # variables:                                 1\n",
      " Cache Hamiltonian:                                "
     ]
    },
    {
     "name": "stdout",
     "output_type": "stream",
     "text": [
      "  0.001601 seconds (4.08 k allocations: 30.747 MiB)\n"
     ]
    },
    {
     "name": "stdout",
     "output_type": "stream",
     "text": [
      " Iter:   1 SS: 1    E:  -18.31710895*  R: 0.0e+00*  LinDep: 0.0e+00* \n"
     ]
    },
    {
     "name": "stdout",
     "output_type": "stream",
     "text": [
      " Diagonalization time:                               0.000946 seconds\n",
      " Compute <S^2>:                                    "
     ]
    },
    {
     "name": "stdout",
     "output_type": "stream",
     "text": [
      "  0.000389 seconds (1.35 k allocations: 399.688 KiB)\n"
     ]
    },
    {
     "name": "stdout",
     "output_type": "stream",
     "text": [
      "  Root       Energy           S2\n",
      "     1 -18.31710895   0.00000000\n",
      " ==================================================================|\n",
      " |== Compute PT2 Energy ============================================\n",
      " H0          : Hcmf\n",
      " max_iter    : 100\n",
      " nbody       : 4\n",
      " thresh_foi  : 1.0e-32\n",
      " max_number  : nothing\n",
      " tol         : 1.0e-12\n",
      " opt_ref     : true\n",
      " verbose     : 0\n",
      "\n",
      " Length of Reference:                                       1\n",
      " Solve zeroth-order problem:                       \n",
      " |== BST CI ========================================================\n",
      " Solve CI with # variables:                                 1\n",
      " Cache Hamiltonian:                                "
     ]
    },
    {
     "name": "stdout",
     "output_type": "stream",
     "text": [
      "  0.001606 seconds (4.08 k allocations: 30.748 MiB)\n"
     ]
    },
    {
     "name": "stdout",
     "output_type": "stream",
     "text": [
      " Iter:   1 SS: 1    E:  -18.31710895*  R: 0.0e+00*  LinDep: 0.0e+00* \n"
     ]
    },
    {
     "name": "stdout",
     "output_type": "stream",
     "text": [
      " Diagonalization time:                               0.000943 seconds\n",
      " Compute <S^2>:                                    "
     ]
    },
    {
     "name": "stdout",
     "output_type": "stream",
     "text": [
      "  0.000346 seconds (1.35 k allocations: 399.688 KiB)\n"
     ]
    },
    {
     "name": "stdout",
     "output_type": "stream",
     "text": [
      "  Root       Energy           S2\n",
      "     1 -18.31710895   0.00000000\n",
      " ==================================================================|\n",
      " Diagonalization time:                               0.004564 seconds\n",
      " Compute <0|H0|0>:                                 "
     ]
    },
    {
     "name": "stdout",
     "output_type": "stream",
     "text": [
      "  0.000311 seconds (665 allocations: 363.547 KiB)\n",
      " Number of jobs:    525\n",
      " Number of threads: 4\n"
     ]
    },
    {
     "name": "stdout",
     "output_type": "stream",
     "text": [
      "----------------------------------------------------------------------------------------------------"
     ]
    },
    {
     "name": "stdout",
     "output_type": "stream",
     "text": [
      " Time spent computing E2:                               0.4 s Allocated:    6.7e-01 GB\n",
      " State   1: E(PT2) corr:                          -0.00992596\n",
      " State   1: E(PT2):                              -18.32703491\n",
      " ==================================================================|\n"
     ]
    }
   ],
   "source": [
    "e_var = FermiCG.ci_solve(v_bst, cluster_ops, clustered_ham);\n",
    "e_pt = FermiCG.compute_pt2_energy(v_bst, cluster_ops, clustered_ham, thresh_foi=1e-32, max_iter=100, tol=1e-12, verbose=0);"
   ]
  },
  {
   "cell_type": "code",
   "execution_count": 47,
   "metadata": {},
   "outputs": [
    {
     "name": "stdout",
     "output_type": "stream",
     "text": [
      " |== BST CI ========================================================\n",
      " Solve CI with # variables:                                 1\n",
      " Cache Hamiltonian:                                "
     ]
    },
    {
     "name": "stdout",
     "output_type": "stream",
     "text": [
      "  0.001329 seconds (4.21 k allocations: 30.765 MiB)\n"
     ]
    },
    {
     "name": "stdout",
     "output_type": "stream",
     "text": [
      " Iter:   1 SS: 1    E:  -18.31710895*  R: 0.0e+00*  LinDep: 0.0e+00* \n"
     ]
    },
    {
     "name": "stdout",
     "output_type": "stream",
     "text": [
      " Diagonalization time:                               0.000788 seconds\n",
      " Compute <S^2>:                                    "
     ]
    },
    {
     "name": "stdout",
     "output_type": "stream",
     "text": [
      "  0.000338 seconds (1.35 k allocations: 399.688 KiB)\n"
     ]
    },
    {
     "name": "stdout",
     "output_type": "stream",
     "text": [
      "  Root       Energy           S2\n",
      "     1 -18.31710895   0.00000000\n",
      " ==================================================================|\n",
      " Number of tasks:                                         661\n",
      " Compute tasks:                                    \n"
     ]
    },
    {
     "name": "stdout",
     "output_type": "stream",
     "text": [
      " Time building compressed vector:                    0.227970 seconds   6.88e-02 Gb GC: 0.0e+00 sec\n"
     ]
    },
    {
     "name": "stdout",
     "output_type": "stream",
     "text": [
      " Add results together:                               0.036762 seconds   1.76e-02 Gb GC: 0.0e+00 sec\n"
     ]
    },
    {
     "name": "stdout",
     "output_type": "stream",
     "text": [
      " Length of input      FOIS:                             16396\n"
     ]
    },
    {
     "name": "stdout",
     "output_type": "stream",
     "text": [
      " Compute <X|V|0>:                                    0.009560 seconds   1.10e-02 Gb\n"
     ]
    },
    {
     "name": "stdout",
     "output_type": "stream",
     "text": [
      "  Root      <0|H|0>      <0|F|0>\n",
      "     1 -18.31710895 -10.81361409\n"
     ]
    },
    {
     "name": "stdout",
     "output_type": "stream",
     "text": [
      " Compute <X|F|0>:                                    0.000518 seconds   9.80e-04 Gb\n"
     ]
    },
    {
     "name": "stdout",
     "output_type": "stream",
     "text": [
      " Cache zeroth-order Hamiltonian:                     0.028012 seconds   4.19e-02 Gb\n"
     ]
    },
    {
     "name": "stdout",
     "output_type": "stream",
     "text": [
      " Time to solve for PT1 with conjugate gradient:      0.476703 seconds   8.39e-01 Gb\n"
     ]
    },
    {
     "name": "stdout",
     "output_type": "stream",
     "text": [
      " Compute <0|H|1>:                                    0.026666 seconds   1.67e-02 Gb\n",
      " State   1: E(PT2) corr:                           0.01193465\n",
      " State   1: E(PT2):                              -18.30517430\n"
     ]
    }
   ],
   "source": [
    "e_var, v = FermiCG.ci_solve(v_bst, cluster_ops, clustered_ham);\n",
    "\n",
    "s_bst = FermiCG.build_compressed_1st_order_state(v, cluster_ops, clustered_ham, nbody=4, thresh=1e-32)\n",
    "    \n",
    "# FermiCG.project_out!(s_bst, v, thresh=1e-32)\n",
    "# @show size(s_bst)\n",
    "# s_bst = FermiCG.compress(s_bst, thresh=1e-32)\n",
    "# @show size(s_bst)\n",
    "v_pt, e_pt = FermiCG.hylleraas_compressed_mp2a(s_bst, v, cluster_ops, clustered_ham, tol=1e-8, verbose=1);"
   ]
  },
  {
   "cell_type": "code",
   "execution_count": 49,
   "metadata": {},
   "outputs": [
    {
     "name": "stdout",
     "output_type": "stream",
     "text": [
      " |== Solve for BST PT1 Wavefunction ================================\n",
      " H0          : Hcmf\n",
      " max_iter    : 50\n",
      " nbody       : 4\n",
      " thresh_foi  : 1.0e-64\n",
      " tol         : 1.0e-8\n",
      " opt_ref     : true\n",
      " verbose     : true\n",
      "\n",
      " Length of Reference:                                       1\n",
      " Solve zeroth-order problem:                       \n",
      " |== BST CI ========================================================\n",
      " Solve CI with # variables:                                 1\n",
      " Cache Hamiltonian:                                "
     ]
    },
    {
     "name": "stdout",
     "output_type": "stream",
     "text": [
      "  0.033188 seconds (4.08 k allocations: 30.747 MiB, 95.51% gc time)\n"
     ]
    },
    {
     "name": "stdout",
     "output_type": "stream",
     "text": [
      " Iter:   1 SS: 1    E:  -18.31710895*  R: 0.0e+00*  LinDep: 0.0e+00* \n"
     ]
    },
    {
     "name": "stdout",
     "output_type": "stream",
     "text": [
      " Diagonalization time:                               0.000873 seconds\n",
      " Compute <S^2>:                                    "
     ]
    },
    {
     "name": "stdout",
     "output_type": "stream",
     "text": [
      "  0.000365 seconds (1.35 k allocations: 399.688 KiB)\n"
     ]
    },
    {
     "name": "stdout",
     "output_type": "stream",
     "text": [
      "  Root       Energy           S2\n",
      "     1 -18.31710895   0.00000000\n",
      " ==================================================================|\n",
      " Diagonalization time:                               0.036153 seconds\n",
      "\n",
      " Compute compressed FOIS:                          \n",
      " Number of tasks:                                         661\n",
      " Compute tasks:                                    \n"
     ]
    },
    {
     "name": "stdout",
     "output_type": "stream",
     "text": [
      " Time building compressed vector:                    0.044961 seconds   6.24e-02 Gb GC: 0.0e+00 sec\n"
     ]
    },
    {
     "name": "stdout",
     "output_type": "stream",
     "text": [
      " Add results together:                               0.037717 seconds   1.76e-02 Gb GC: 0.0e+00 sec\n"
     ]
    },
    {
     "name": "stdout",
     "output_type": "stream",
     "text": [
      " Time spent building compressed FOIS:                0.083272 seconds\n",
      " FOIS Compressed from:                                  16396 → 16362      (thresh =  1.0e-64)\n",
      " Overlap between <1|0>:                              0.000000 \n",
      " Compute PT vector. Reference space dim:                    1\n",
      " Length of input      FOIS:                             16362\n",
      " Build exact <X|V|0>:                              "
     ]
    },
    {
     "name": "stdout",
     "output_type": "stream",
     "text": [
      "  0.009682 seconds (127.69 k allocations: 10.291 MiB)\n"
     ]
    },
    {
     "name": "stdout",
     "output_type": "stream",
     "text": [
      " Compute <0|H0|0>:                                 "
     ]
    },
    {
     "name": "stdout",
     "output_type": "stream",
     "text": [
      "  0.000185 seconds (510 allocations: 348.141 KiB)\n",
      "  Root      <0|H|0>      <0|F|0>\n",
      "     1 -18.31710895 -10.81361409\n",
      " Compute <X|F|0>:                                  "
     ]
    },
    {
     "name": "stdout",
     "output_type": "stream",
     "text": [
      "  0.000456 seconds (7.96 k allocations: 935.406 KiB)\n",
      " Cache zeroth-order Hamiltonian:                     0.009079 seconds (70.86 k allocations: 38.991 MiB)\n"
     ]
    },
    {
     "name": "stdout",
     "output_type": "stream",
     "text": [
      " Time to solve for PT1 with conjugate gradient:      0.367628 seconds\n",
      " Compute <0|H|1>:                                  "
     ]
    },
    {
     "name": "stdout",
     "output_type": "stream",
     "text": [
      "  0.025978 seconds (252.27 k allocations: 15.367 MiB)\n",
      " State   1: E(PT2) corr:                          -0.00992618\n",
      " State   1: E(PT2):                              -18.32703513\n",
      " ==================================================================|\n"
     ]
    }
   ],
   "source": [
    "e_pt, v_pt = FermiCG.do_fois_pt2(v_bst, cluster_ops, clustered_ham, thresh_foi=1e-64, max_iter=50, tol=1e-8);"
   ]
  },
  {
   "cell_type": "code",
   "execution_count": 112,
   "metadata": {},
   "outputs": [
    {
     "data": {
      "text/plain": [
       "11.795261590783612"
      ]
     },
     "execution_count": 112,
     "metadata": {},
     "output_type": "execute_result"
    }
   ],
   "source": [
    "ints.h0"
   ]
  },
  {
   "cell_type": "markdown",
   "metadata": {},
   "source": [
    "# TPSCI PT2"
   ]
  },
  {
   "cell_type": "code",
   "execution_count": 18,
   "metadata": {},
   "outputs": [
    {
     "name": "stdout",
     "output_type": "stream",
     "text": [
      " Number of tasks:                                         661\n",
      " Compute tasks:                                      0.077710 seconds (597.90 k allocations: 56.236 MiB)\n",
      " Add results together:                             "
     ]
    },
    {
     "name": "stdout",
     "output_type": "stream",
     "text": [
      "  0.016173 seconds (85.70 k allocations: 9.271 MiB)\n"
     ]
    },
    {
     "name": "stdout",
     "output_type": "stream",
     "text": [
      "\n",
      " --------------------------------------------------\n",
      " ---------- # Fockspaces -------------------:   485  \n",
      " ---------- # Configs    -------------------:  5500  \n",
      " ---------- Root ---------------------------:     1  \n",
      " --------------------------------------------------\n",
      " Printing contributions greater than: 0.010000\n",
      " Weight              # configs (full)    (α,β)...            \n",
      " -------             --------- --------- ----------          \n",
      " 0.027                                   ( 1,1 )( 2,1 )( 1,2 )( 1,1 )( 1,1 )\n",
      "     0.027           16        48            1:1    1:2   1:24    1:1    1:1\n",
      " ---------                               ----------          \n",
      " 0.028                                   ( 1,1 )( 0,1 )( 3,2 )( 1,1 )( 1,1 )\n",
      "     0.027           16        48            1:1    1:2   1:24    1:1    1:1\n",
      " ---------                               ----------          \n",
      " 0.027                                   ( 2,1 )( 0,1 )( 2,2 )( 1,1 )( 1,1 )\n",
      "     0.026           4         4             1:2    1:2    1:1    1:1    1:1\n",
      " ---------                               ----------          \n",
      " 0.027                                   ( 1,1 )( 1,1 )( 2,2 )( 0,1 )( 2,1 )\n",
      "     0.026           4         4             1:1    1:1    1:1    1:2    1:2\n",
      " ---------                               ----------          \n",
      " 0.028                                   ( 1,1 )( 1,0 )( 2,3 )( 1,1 )( 1,1 )\n",
      "     0.027           16        48            1:1    1:2   1:24    1:1    1:1\n",
      " ---------                               ----------          \n",
      " 0.026                                   ( 1,0 )( 1,2 )( 2,2 )( 1,1 )( 1,1 )\n",
      "     0.026           4         4             1:2    1:2    1:1    1:1    1:1\n",
      " ---------                               ----------          \n",
      " 18.317                                  ( 1,1 )( 1,1 )( 2,2 )( 1,1 )( 1,1 )\n",
      "     18.317          1         1             1:1    1:1    1:1    1:1    1:1\n",
      "     0.024           9         9             1:1    1:1    1:1    2:4    2:4\n",
      "     0.026           9         105           1:1    2:4   2:36    1:1    1:1\n",
      "     0.026           9         105           1:1    1:1   2:36    2:4    1:1\n",
      "     0.024           9         9             2:4    2:4    1:1    1:1    1:1\n",
      " ---------                               ----------          \n",
      " 0.027                                   ( 1,1 )( 1,2 )( 2,1 )( 1,1 )( 1,1 )\n",
      "     0.027           16        48            1:1    1:2   1:24    1:1    1:1\n",
      " ---------                               ----------          \n",
      " 0.027                                   ( 1,1 )( 1,1 )( 2,1 )( 1,2 )( 1,1 )\n",
      "     0.027           16        48            1:1    1:1   1:24    1:2    1:1\n",
      " ---------                               ----------          \n",
      " 0.026                                   ( 1,1 )( 1,1 )( 2,2 )( 1,2 )( 1,0 )\n",
      "     0.026           4         4             1:1    1:1    1:1    1:2    1:2\n",
      " ---------                               ----------          \n",
      " 0.027                                   ( 1,1 )( 1,1 )( 1,2 )( 2,1 )( 1,1 )\n",
      "     0.027           16        48            1:1    1:1   1:24    1:2    1:1\n",
      " ---------                               ----------          \n",
      " 0.028                                   ( 1,1 )( 1,1 )( 2,3 )( 1,0 )( 1,1 )\n",
      "     0.027           16        48            1:1    1:1   1:24    1:2    1:1\n",
      " ---------                               ----------          \n",
      " 0.026                                   ( 0,1 )( 2,1 )( 2,2 )( 1,1 )( 1,1 )\n",
      "     0.026           4         4             1:2    1:2    1:1    1:1    1:1\n",
      " ---------                               ----------          \n",
      " 0.027                                   ( 1,2 )( 1,0 )( 2,2 )( 1,1 )( 1,1 )\n",
      "     0.026           4         4             1:2    1:2    1:1    1:1    1:1\n",
      " ---------                               ----------          \n",
      " 0.027                                   ( 1,1 )( 1,1 )( 2,2 )( 1,0 )( 1,2 )\n",
      "     0.026           4         4             1:1    1:1    1:1    1:2    1:2\n",
      " ---------                               ----------          \n",
      " 0.028                                   ( 1,1 )( 1,1 )( 3,2 )( 0,1 )( 1,1 )\n",
      "     0.027           16        48            1:1    1:1   1:24    1:2    1:1\n",
      " ---------                               ----------          \n",
      " 0.026                                   ( 1,1 )( 1,1 )( 2,2 )( 2,1 )( 0,1 )\n",
      "     0.026           4         4             1:1    1:1    1:1    1:2    1:2\n",
      " ---------                               ----------          \n",
      " --------------------------------------------------\n",
      "\n"
     ]
    }
   ],
   "source": [
    "function pt1(ψ, cluster_ops, clustered_ham)\n",
    "    σ = FermiCG.build_compressed_1st_order_state(ψ, cluster_ops, clustered_ham, nbody=4, thresh=1e-6)\n",
    "    \n",
    "end\n",
    "pt1(ψ, cluster_ops, clustered_ham)"
   ]
  },
  {
   "cell_type": "code",
   "execution_count": null,
   "metadata": {},
   "outputs": [],
   "source": []
  }
 ],
 "metadata": {
  "kernelspec": {
   "display_name": "Julia 1.7.2",
   "language": "julia",
   "name": "julia-1.7"
  },
  "language_info": {
   "file_extension": ".jl",
   "mimetype": "application/julia",
   "name": "julia",
   "version": "1.7.2"
  },
  "orig_nbformat": 4
 },
 "nbformat": 4,
 "nbformat_minor": 2
}
