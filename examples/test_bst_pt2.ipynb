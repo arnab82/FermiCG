{
 "cells": [
  {
   "cell_type": "code",
   "execution_count": 3,
   "metadata": {},
   "outputs": [
    {
     "name": "stdout",
     "output_type": "stream",
     "text": [
      " Remove duplicates\n",
      " Number of terms reduced from  2525 to  1105\n",
      "IDX001:DIM0016:001|002|\n",
      "IDX002:DIM0016:003|004|\n",
      "IDX003:DIM0256:005|006|007|008|\n",
      "IDX004:DIM0016:009|010|\n",
      "IDX005:DIM0016:011|012|\n",
      " Number of tasks:                                         661\n",
      " Compute tasks:                                    \n",
      " Time building compressed vector:                    0.161381 seconds   6.24e-02 Gb GC: 3.8e-02 sec\n",
      " Add results together:                               0.024873 seconds   1.74e-02 Gb GC: 0.0e+00 sec\n",
      " In open_matvec_thread\n",
      " Setup threaded jobs:                                0.000209 seconds (1.58 k allocations: 145.469 KiB)\n",
      " Number of jobs:    525\n",
      " Number of threads: 1\n",
      " Compute matrix-vector:                              0.016953 seconds (78.87 k allocations: 6.587 MiB)\n",
      " Now collect thread results :                        0.000206 seconds (1.06 k allocations: 64.359 KiB)\n",
      "size(s_bst) = (16278, 1)\n",
      "size(s_tps) = (49378, 1)\n"
     ]
    }
   ],
   "source": [
    "using FermiCG\n",
    "using Printf\n",
    "using Test\n",
    "using JLD2 \n",
    "\n",
    "@load \"../test/_testdata_cmf_h12_64bit.jld2\"\n",
    "\n",
    "clustered_ham = FermiCG.extract_ClusteredTerms(ints, clusters)\n",
    "cluster_ops = FermiCG.compute_cluster_ops(cluster_bases, ints);\n",
    "FermiCG.add_cmf_operators!(cluster_ops, cluster_bases, ints, d1.a, d1.b);\n",
    "\n",
    "v_bst = FermiCG.BSTstate(clusters, FockConfig(init_fspace), cluster_bases)\n",
    "v_tps = FermiCG.TPSCIstate(clusters, FockConfig(init_fspace))\n",
    "FermiCG.eye!(v_tps)\n",
    "\n",
    "s_bst = FermiCG.build_compressed_1st_order_state(v_bst, cluster_ops, clustered_ham, nbody=4, thresh=1e-24)\n",
    "s_tps = FermiCG.open_matvec_thread(v_tps, cluster_ops, clustered_ham, thresh=1e-32)\n",
    "\n",
    "@show size(s_bst);\n",
    "@show size(s_tps);\n",
    "\n",
    "\n",
    "\n"
   ]
  },
  {
   "attachments": {},
   "cell_type": "markdown",
   "metadata": {},
   "source": [
    "# BST PT2"
   ]
  },
  {
   "cell_type": "code",
   "execution_count": 4,
   "metadata": {},
   "outputs": [
    {
     "name": "stdout",
     "output_type": "stream",
     "text": [
      " |== BST CI ========================================================\n",
      " Solve CI with # variables:                                 1\n",
      " Cache Hamiltonian:                                  2.446945 seconds (3.06 M allocations: 160.227 MiB, 3.98% gc time, 99.91% compilation time)\n",
      " Iter:   1 SS: 1    E:  -18.31710895*  R: 0.0e+00*  LinDep: 0.0e+00* \n",
      " Diagonalization time:                               0.985783 seconds\n",
      " Compute <S^2>:                                      0.003907 seconds (1.99 k allocations: 202.131 KiB, 88.70% compilation time)\n",
      "  Root       Energy           S2\n",
      "     1 -18.31710895   0.00000000\n",
      " ==================================================================|\n",
      " |== Compute PT2 Energy ============================================\n",
      " H0          : Hcmf\n",
      " max_iter    : 100\n",
      " nbody       : 4\n",
      " thresh_foi  : 1.0e-6\n",
      " max_number  : nothing\n",
      " tol         : 1.0e-12\n",
      " opt_ref     : true\n",
      " verbose     : 0\n",
      "\n",
      " Length of Reference:                                       1\n",
      " Solve zeroth-order problem:                       \n",
      " |== BST CI ========================================================\n",
      " Solve CI with # variables:                                 1\n",
      " Cache Hamiltonian:                                  0.002608 seconds (3.98 k allocations: 7.854 MiB)\n",
      " Iter:   1 SS: 1    E:  -18.31710895*  R: 0.0e+00*  LinDep: 0.0e+00* \n",
      " Diagonalization time:                               0.001277 seconds\n",
      " Compute <S^2>:                                      0.000323 seconds (1.29 k allocations: 158.047 KiB)\n",
      "  Root       Energy           S2\n",
      "     1 -18.31710895   0.00000000\n",
      " ==================================================================|\n",
      " Diagonalization time:                               0.011821 seconds\n",
      " Compute <0|H0|0>:                                   0.012159 seconds (8.92 k allocations: 608.731 KiB, 96.26% compilation time)\n",
      " Number of jobs:    525\n",
      " Number of threads: 1\n",
      "---------------------------------------------------------------------------------------------------- Time spent computing E2:                               9.1 s Allocated:    2.0e+00 GB\n",
      " State   1: E(PT2) corr:                          -0.00988248\n",
      " State   1: E(PT2):                              -18.32699143\n",
      " ==================================================================|\n"
     ]
    }
   ],
   "source": [
    "e_var = FermiCG.ci_solve(v_bst, cluster_ops, clustered_ham);\n",
    "e_pt = FermiCG.compute_pt2_energy(v_bst, cluster_ops, clustered_ham, thresh_foi=1e-6, max_iter=100, tol=1e-12, verbose=0);"
   ]
  },
  {
   "cell_type": "code",
   "execution_count": 5,
   "metadata": {},
   "outputs": [
    {
     "name": "stdout",
     "output_type": "stream",
     "text": [
      " |== BST CI ========================================================\n",
      " Solve CI with # variables:                                 1\n",
      " Cache Hamiltonian:                                  0.023180 seconds (3.98 k allocations: 7.854 MiB, 81.80% gc time)\n",
      " Iter:   1 SS: 1    E:  -18.31710895*  R: 0.0e+00*  LinDep: 0.0e+00* \n",
      " Diagonalization time:                               0.023561 seconds\n",
      " Compute <S^2>:                                      0.000733 seconds (1.29 k allocations: 158.344 KiB)\n",
      "  Root       Energy           S2\n",
      "     1 -18.31710895   0.00000000\n",
      " ==================================================================|\n",
      " Number of tasks:                                         661\n",
      " Compute tasks:                                    \n",
      " Time building compressed vector:                    0.126798 seconds   6.24e-02 Gb GC: 0.0e+00 sec\n",
      " Add results together:                               0.042668 seconds   1.76e-02 Gb GC: 1.7e-02 sec\n",
      " Length of input      FOIS:                             16382\n",
      " Compute <X|V|0>:                                   10.500925 seconds   6.83e-01 Gb\n",
      "  Root      <0|H|0>      <0|F|0>\n",
      "     1 -18.31710895 -10.81361409\n",
      " Compute <X|F|0>:                                    0.000830 seconds   7.39e-04 Gb\n",
      " Cache zeroth-order Hamiltonian:                     0.061796 seconds   2.21e-02 Gb\n",
      "  1\t3.34e-02\n",
      "  2\t1.39e-02\n",
      "  3\t6.84e-03\n",
      "  4\t2.85e-03\n",
      "  5\t7.84e-04\n",
      "  6\t3.18e-04\n",
      "  7\t1.30e-04\n",
      "  8\t6.52e-05\n",
      "  9\t3.16e-05\n",
      " 10\t1.14e-05\n",
      " 11\t4.80e-06\n",
      " 12\t1.77e-06\n",
      " 13\t9.12e-07\n",
      " 14\t3.70e-07\n",
      " 15\t1.73e-07\n",
      " 16\t8.30e-08\n",
      " 17\t3.56e-08\n",
      " 18\t1.71e-08\n",
      " 19\t8.15e-09\n",
      "\n",
      " Time to solve for PT1 with conjugate gradient:      1.702564 seconds   8.41e-01 Gb\n",
      " Compute <0|H|1>:                                    0.287746 seconds   2.87e-02 Gb\n",
      " SxC[r]  -0.00000000 SxSx   1.00000000\n",
      " State   1: E(PT2) corr:                          -0.00992614\n",
      " State   1: E(PT2):                              -18.32703509\n"
     ]
    }
   ],
   "source": [
    "e_var, v = FermiCG.ci_solve(v_bst, cluster_ops, clustered_ham);\n",
    "\n",
    "s_bst = FermiCG.build_compressed_1st_order_state(v, cluster_ops, clustered_ham, nbody=4, thresh=1e-33)\n",
    "    \n",
    "# FermiCG.project_out!(s_bst, v, thresh=1e-32)\n",
    "# @show size(s_bst)\n",
    "# s_bst = FermiCG.compress(s_bst, thresh=1e-32)\n",
    "# @show size(s_bst)\n",
    "v_pt, e_pt = FermiCG.hylleraas_compressed_mp2(s_bst, v, cluster_ops, clustered_ham, tol=1e-8, verbose=1);"
   ]
  },
  {
   "cell_type": "code",
   "execution_count": 6,
   "metadata": {},
   "outputs": [
    {
     "name": "stdout",
     "output_type": "stream",
     "text": [
      " |== Solve for BST PT1 Wavefunction ================================\n",
      " H0          : Hcmf\n",
      " max_iter    : 50\n",
      " nbody       : 4\n",
      " thresh_foi  : 0.001\n",
      " tol         : 1.0e-9\n",
      " opt_ref     : true\n",
      " verbose     : true\n",
      "\n",
      " Length of Reference:                                       1\n",
      " Solve zeroth-order problem:                       \n",
      " |== BST CI ========================================================\n",
      " Solve CI with # variables:                                 1\n",
      " Cache Hamiltonian:                                  0.001821 seconds (3.98 k allocations: 7.854 MiB)\n",
      " Iter:   1 SS: 1    E:  -18.31710895*  R: 0.0e+00*  LinDep: 0.0e+00* \n",
      " Diagonalization time:                               0.001210 seconds\n",
      " Compute <S^2>:                                      0.000684 seconds (1.29 k allocations: 158.047 KiB)\n",
      "  Root       Energy           S2\n",
      "     1 -18.31710895   0.00000000\n",
      " ==================================================================|\n",
      " Diagonalization time:                               0.006731 seconds\n",
      "\n",
      " Compute compressed FOIS:                          \n",
      " Number of tasks:                                         661\n",
      " Compute tasks:                                    \n",
      " Time building compressed vector:                    0.730882 seconds   7.48e-02 Gb GC: 2.1e-02 sec\n",
      " Add results together:                               0.063116 seconds   1.10e-02 Gb GC: 0.0e+00 sec\n",
      " Time spent building compressed FOIS:                0.794689 seconds\n",
      " FOIS Compressed from:                                    407 → 234        (thresh =  1.0e-03)\n",
      " Overlap between <1|0>:                              0.000000 \n",
      " Compute PT vector. Reference space dim:                    1\n",
      " Length of input      FOIS:                               234\n",
      " Compute <X|V|0>:                                    0.010839 seconds   3.64e-03 Gb\n",
      "  Root      <0|H|0>      <0|F|0>\n",
      "     1 -18.31710895 -10.81361409\n",
      " Compute <X|F|0>:                                    0.000279 seconds   2.31e-04 Gb\n",
      " Cache zeroth-order Hamiltonian:                     0.001938 seconds   9.82e-03 Gb\n",
      "  1\t3.21e-02\n",
      "  2\t1.33e-02\n",
      "  3\t5.38e-03\n",
      "  4\t9.24e-04\n",
      "  5\t2.71e-04\n",
      "  6\t6.88e-05\n",
      "  7\t2.48e-05\n",
      "  8\t4.90e-06\n",
      "  9\t1.32e-06\n",
      " 10\t4.28e-07\n",
      "\n",
      " Time to solve for PT1 with conjugate gradient:      0.138115 seconds   5.52e-02 Gb\n",
      " Compute <0|H|1>:                                    0.032619 seconds   7.16e-03 Gb\n",
      " SxC[r]   0.00000000 SxSx   0.00000000\n",
      " State   1: E(PT2) corr:                          -0.00986215\n",
      " State   1: E(PT2):                              -18.32697110\n",
      " ==================================================================|\n"
     ]
    }
   ],
   "source": [
    "e_pt, v_pt = FermiCG.do_fois_pt2(v_bst, cluster_ops, clustered_ham, thresh_foi=1e-3, max_iter=50, tol=1e-9);"
   ]
  },
  {
   "cell_type": "markdown",
   "metadata": {},
   "source": [
    "# Pseudo-Canonicalization"
   ]
  },
  {
   "cell_type": "code",
   "execution_count": 23,
   "metadata": {},
   "outputs": [
    {
     "name": "stdout",
     "output_type": "stream",
     "text": [
      " |== BST CI ========================================================\n",
      " Solve CI with # variables:                                 1\n",
      " Cache Hamiltonian:                                  0.001866 seconds (3.98 k allocations: 7.854 MiB)\n",
      " Iter:   1 SS: 1    E:  -18.31710895*  R: 0.0e+00*  LinDep: 0.0e+00* \n",
      " Diagonalization time:                               0.000993 seconds\n",
      " Compute <S^2>:                                      0.000330 seconds (1.29 k allocations: 158.047 KiB)\n",
      "  Root       Energy           S2\n",
      "     1 -18.31710895   0.00000000\n",
      " ==================================================================|\n",
      " Number of tasks:                                         661\n",
      " Compute tasks:                                    \n",
      " Time building compressed vector:                    0.137974 seconds   6.24e-02 Gb GC: 1.6e-02 sec\n",
      " Add results together:                               0.026049 seconds   1.76e-02 Gb GC: 0.0e+00 sec\n",
      " Compute <X|H|0>:                                    0.026720 seconds   1.07e-02 Gb\n",
      "FockConfig{5}(((1, 1), (1, 1), (2, 2), (1, 1), (1, 1)))\n",
      " Length of input      FOIS:                             16382\n",
      "nick: [0.016040810685226344]\n",
      " Compute 1st order state:                            0.000707 seconds   1.83e-03 Gb\n",
      "  Root      <0|H|0>      <0|F|0>\n",
      "     1 -18.31710895 -10.81361409\n",
      " Compute <0|H|1>:                                    0.044613 seconds   1.65e-02 Gb\n",
      " SxC[r] -18317108.94847790 SxSx   1.00000000\n",
      " State   1: E(PT2) corr:                       335516480.22782081\n",
      " State   1: E(PT2):                            335516461.91071188\n"
     ]
    }
   ],
   "source": [
    "e_var, v = FermiCG.ci_solve(v_bst, cluster_ops, clustered_ham);\n",
    "\n",
    "s_bst = FermiCG.build_compressed_1st_order_state(v, cluster_ops, clustered_ham, nbody=4, thresh=1e-33)\n",
    "    \n",
    "FermiCG.pseudo_canon_pt1(s_bst, v, cluster_ops, clustered_ham, verbose=1);\n",
    "# v_pt, e_pt = FermiCG.pseudo_canon_pt1(s_bst, v, cluster_ops, clustered_ham, tol=1e-8, verbose=1);\n"
   ]
  },
  {
   "cell_type": "code",
   "execution_count": 20,
   "metadata": {},
   "outputs": [],
   "source": [
    "Revise.retry()"
   ]
  },
  {
   "cell_type": "code",
   "execution_count": null,
   "metadata": {},
   "outputs": [],
   "source": []
  }
 ],
 "metadata": {
  "kernelspec": {
   "display_name": "Julia 1.7.2",
   "language": "julia",
   "name": "julia-1.7"
  },
  "language_info": {
   "file_extension": ".jl",
   "mimetype": "application/julia",
   "name": "julia",
   "version": "1.7.2"
  },
  "orig_nbformat": 4
 },
 "nbformat": 4,
 "nbformat_minor": 2
}
