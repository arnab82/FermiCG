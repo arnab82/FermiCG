{
 "cells": [
  {
   "cell_type": "code",
   "execution_count": 17,
   "metadata": {},
   "outputs": [
    {
     "name": "stdout",
     "output_type": "stream",
     "text": [
      " Remove duplicates\n",
      " Number of terms reduced from  2525 to  1105\n",
      "IDX001:DIM0016:001|002|\n"
     ]
    },
    {
     "name": "stdout",
     "output_type": "stream",
     "text": [
      "IDX002:DIM0016:003|004|\n"
     ]
    },
    {
     "name": "stdout",
     "output_type": "stream",
     "text": [
      "IDX003:DIM0256:005|006|007|008|\n"
     ]
    },
    {
     "name": "stdout",
     "output_type": "stream",
     "text": [
      "IDX004:DIM0016:009|010|\n"
     ]
    },
    {
     "name": "stdout",
     "output_type": "stream",
     "text": [
      "IDX005:DIM0016:011|012|\n"
     ]
    },
    {
     "name": "stdout",
     "output_type": "stream",
     "text": [
      " Number of tasks:                                         661\n",
      " Compute tasks:                                      0.075156 seconds (597.92 k allocations: 56.236 MiB)\n",
      " Add results together:                             "
     ]
    },
    {
     "name": "stdout",
     "output_type": "stream",
     "text": [
      "  0.015774 seconds (85.70 k allocations: 9.271 MiB)\n"
     ]
    },
    {
     "name": "stdout",
     "output_type": "stream",
     "text": [
      "size(σ) = (5500, 1)\n",
      "size(σ) = (605, 1)\n",
      "size(σ) = (228, 1)\n"
     ]
    },
    {
     "data": {
      "text/plain": [
       "pt1 (generic function with 1 method)"
      ]
     },
     "metadata": {},
     "output_type": "display_data"
    }
   ],
   "source": [
    "using FermiCG\n",
    "using Printf\n",
    "using Test\n",
    "using JLD2 \n",
    "\n",
    "@load \"../test/_testdata_cmf_h12_64bit.jld2\"\n",
    "\n",
    "clustered_ham = FermiCG.extract_ClusteredTerms(ints, clusters)\n",
    "cluster_ops = FermiCG.compute_cluster_ops(cluster_bases, ints);\n",
    "FermiCG.add_cmf_operators!(cluster_ops, cluster_bases, ints, d1.a, d1.b);\n",
    "\n",
    "ψ = FermiCG.BSTstate(clusters, FockConfig(init_fspace), cluster_bases)\n",
    "\n",
    "σ = FermiCG.build_compressed_1st_order_state(ψ, cluster_ops, clustered_ham, nbody=4, thresh=1e-6)\n",
    "@show size(σ)\n",
    "σ = FermiCG.compress(σ, thresh=1e-4)\n",
    "@show size(σ)\n",
    "σ = FermiCG.compress(σ, thresh=1e-3)\n",
    "@show size(σ)\n",
    "\n",
    "\n",
    "\n"
   ]
  },
  {
   "cell_type": "code",
   "execution_count": 18,
   "metadata": {},
   "outputs": [
    {
     "name": "stdout",
     "output_type": "stream",
     "text": [
      " Number of tasks:                                         661\n",
      " Compute tasks:                                      0.077710 seconds (597.90 k allocations: 56.236 MiB)\n",
      " Add results together:                             "
     ]
    },
    {
     "name": "stdout",
     "output_type": "stream",
     "text": [
      "  0.016173 seconds (85.70 k allocations: 9.271 MiB)\n"
     ]
    },
    {
     "name": "stdout",
     "output_type": "stream",
     "text": [
      "\n",
      " --------------------------------------------------\n",
      " ---------- # Fockspaces -------------------:   485  \n",
      " ---------- # Configs    -------------------:  5500  \n",
      " ---------- Root ---------------------------:     1  \n",
      " --------------------------------------------------\n",
      " Printing contributions greater than: 0.010000\n",
      " Weight              # configs (full)    (α,β)...            \n",
      " -------             --------- --------- ----------          \n",
      " 0.027                                   ( 1,1 )( 2,1 )( 1,2 )( 1,1 )( 1,1 )\n",
      "     0.027           16        48            1:1    1:2   1:24    1:1    1:1\n",
      " ---------                               ----------          \n",
      " 0.028                                   ( 1,1 )( 0,1 )( 3,2 )( 1,1 )( 1,1 )\n",
      "     0.027           16        48            1:1    1:2   1:24    1:1    1:1\n",
      " ---------                               ----------          \n",
      " 0.027                                   ( 2,1 )( 0,1 )( 2,2 )( 1,1 )( 1,1 )\n",
      "     0.026           4         4             1:2    1:2    1:1    1:1    1:1\n",
      " ---------                               ----------          \n",
      " 0.027                                   ( 1,1 )( 1,1 )( 2,2 )( 0,1 )( 2,1 )\n",
      "     0.026           4         4             1:1    1:1    1:1    1:2    1:2\n",
      " ---------                               ----------          \n",
      " 0.028                                   ( 1,1 )( 1,0 )( 2,3 )( 1,1 )( 1,1 )\n",
      "     0.027           16        48            1:1    1:2   1:24    1:1    1:1\n",
      " ---------                               ----------          \n",
      " 0.026                                   ( 1,0 )( 1,2 )( 2,2 )( 1,1 )( 1,1 )\n",
      "     0.026           4         4             1:2    1:2    1:1    1:1    1:1\n",
      " ---------                               ----------          \n",
      " 18.317                                  ( 1,1 )( 1,1 )( 2,2 )( 1,1 )( 1,1 )\n",
      "     18.317          1         1             1:1    1:1    1:1    1:1    1:1\n",
      "     0.024           9         9             1:1    1:1    1:1    2:4    2:4\n",
      "     0.026           9         105           1:1    2:4   2:36    1:1    1:1\n",
      "     0.026           9         105           1:1    1:1   2:36    2:4    1:1\n",
      "     0.024           9         9             2:4    2:4    1:1    1:1    1:1\n",
      " ---------                               ----------          \n",
      " 0.027                                   ( 1,1 )( 1,2 )( 2,1 )( 1,1 )( 1,1 )\n",
      "     0.027           16        48            1:1    1:2   1:24    1:1    1:1\n",
      " ---------                               ----------          \n",
      " 0.027                                   ( 1,1 )( 1,1 )( 2,1 )( 1,2 )( 1,1 )\n",
      "     0.027           16        48            1:1    1:1   1:24    1:2    1:1\n",
      " ---------                               ----------          \n",
      " 0.026                                   ( 1,1 )( 1,1 )( 2,2 )( 1,2 )( 1,0 )\n",
      "     0.026           4         4             1:1    1:1    1:1    1:2    1:2\n",
      " ---------                               ----------          \n",
      " 0.027                                   ( 1,1 )( 1,1 )( 1,2 )( 2,1 )( 1,1 )\n",
      "     0.027           16        48            1:1    1:1   1:24    1:2    1:1\n",
      " ---------                               ----------          \n",
      " 0.028                                   ( 1,1 )( 1,1 )( 2,3 )( 1,0 )( 1,1 )\n",
      "     0.027           16        48            1:1    1:1   1:24    1:2    1:1\n",
      " ---------                               ----------          \n",
      " 0.026                                   ( 0,1 )( 2,1 )( 2,2 )( 1,1 )( 1,1 )\n",
      "     0.026           4         4             1:2    1:2    1:1    1:1    1:1\n",
      " ---------                               ----------          \n",
      " 0.027                                   ( 1,2 )( 1,0 )( 2,2 )( 1,1 )( 1,1 )\n",
      "     0.026           4         4             1:2    1:2    1:1    1:1    1:1\n",
      " ---------                               ----------          \n",
      " 0.027                                   ( 1,1 )( 1,1 )( 2,2 )( 1,0 )( 1,2 )\n",
      "     0.026           4         4             1:1    1:1    1:1    1:2    1:2\n",
      " ---------                               ----------          \n",
      " 0.028                                   ( 1,1 )( 1,1 )( 3,2 )( 0,1 )( 1,1 )\n",
      "     0.027           16        48            1:1    1:1   1:24    1:2    1:1\n",
      " ---------                               ----------          \n",
      " 0.026                                   ( 1,1 )( 1,1 )( 2,2 )( 2,1 )( 0,1 )\n",
      "     0.026           4         4             1:1    1:1    1:1    1:2    1:2\n",
      " ---------                               ----------          \n",
      " --------------------------------------------------\n",
      "\n"
     ]
    }
   ],
   "source": [
    "function pt1(ψ, cluster_ops, clustered_ham)\n",
    "    σ = FermiCG.build_compressed_1st_order_state(ψ, cluster_ops, clustered_ham, nbody=4, thresh=1e-6)\n",
    "    \n",
    "end\n",
    "pt1(ψ, cluster_ops, clustered_ham)"
   ]
  },
  {
   "cell_type": "code",
   "execution_count": null,
   "metadata": {},
   "outputs": [],
   "source": []
  }
 ],
 "metadata": {
  "kernelspec": {
   "display_name": "Julia 1.7.2",
   "language": "julia",
   "name": "julia-1.7"
  },
  "language_info": {
   "file_extension": ".jl",
   "mimetype": "application/julia",
   "name": "julia",
   "version": "1.7.2"
  },
  "orig_nbformat": 4
 },
 "nbformat": 4,
 "nbformat_minor": 2
}
