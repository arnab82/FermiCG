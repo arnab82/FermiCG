{
 "cells": [
  {
   "cell_type": "code",
   "execution_count": 1,
   "id": "bizarre-chuck",
   "metadata": {},
   "outputs": [],
   "source": [
    "using FermiCG\n",
    "using PyCall\n",
    "using Plots\n",
    "using LinearAlgebra\n",
    "using Printf"
   ]
  },
  {
   "cell_type": "markdown",
   "id": "fatty-clinic",
   "metadata": {},
   "source": [
    "## Import PYSCF data"
   ]
  },
  {
   "cell_type": "code",
   "execution_count": 9,
   "id": "static-playing",
   "metadata": {},
   "outputs": [],
   "source": [
    "pyscf = pyimport(\"pyscf\");\n",
    "fcidump = pyimport(\"pyscf.tools.fcidump\");\n",
    "ctx = fcidump.read(\"fe2s2\");\n",
    "h = ctx[\"H1\"];\n",
    "g = ctx[\"H2\"];\n",
    "ecore = ctx[\"ECORE\"];\n",
    "g = pyscf.ao2mo.restore(\"1\", g, size(h,2));"
   ]
  },
  {
   "cell_type": "code",
   "execution_count": 10,
   "id": "distant-distribution",
   "metadata": {},
   "outputs": [
    {
     "data": {
      "text/plain": [
       "((2, 2), (5, 0), (3, 3), (3, 3), (5, 0), (2, 2))"
      ]
     },
     "execution_count": 10,
     "metadata": {},
     "output_type": "execute_result"
    }
   ],
   "source": [
    "# blocking from paper\n",
    "blocks = [[0,1],[2,3,4,5,6],[7,9,11],[8,10,12],[13,14,15,16,17],[18,19]]\n",
    "init_fspace = ((2,2),(5,0),(3,3),(3,3),(5,0),(2,2))\n",
    "\n",
    "for b in blocks\n",
    "    b .+= 1\n",
    "end\n",
    "clusters = [Cluster(i,collect(blocks[i])) for i = 1:length(blocks)]\n",
    "display(clusters)"
   ]
  },
  {
   "cell_type": "code",
   "execution_count": 41,
   "id": "surrounded-collective",
   "metadata": {},
   "outputs": [
    {
     "data": {
      "text/plain": [
       "3-element Array{Cluster,1}:\n",
       " Cluster(1, [1, 2, 3, 4, 7, 8, 9])\n",
       " Cluster(2, [12, 13, 14, 17, 18, 19, 20])\n",
       " Cluster(3, [5, 6, 10, 11, 15, 16])"
      ]
     },
     "metadata": {},
     "output_type": "display_data"
    }
   ],
   "source": [
    "# blocking 1\n",
    "blocks = [  [0,1,2,3,6,7,8],        # L1(sig)+ Fe1(t) + L2(sig)\n",
    "            [11,12,13,16,17,18,19], # L2(sig)+ Fe2(t) + L3(sig)\n",
    "            [4,5,9,10,14,15],       # Fe1(e) + Fe2(e) + L2(pi)\n",
    "         ]\n",
    "\n",
    "init_fspace = ((7,4), (7,4), (4,4))\n",
    "\n",
    "for b in blocks\n",
    "    b .+= 1\n",
    "end\n",
    "clusters = [Cluster(i,collect(blocks[i])) for i = 1:length(blocks)]\n",
    "display(clusters)\n"
   ]
  },
  {
   "cell_type": "code",
   "execution_count": 68,
   "id": "applied-audience",
   "metadata": {},
   "outputs": [
    {
     "data": {
      "text/plain": [
       "18"
      ]
     },
     "metadata": {},
     "output_type": "display_data"
    },
    {
     "data": {
      "text/plain": [
       "12"
      ]
     },
     "metadata": {},
     "output_type": "display_data"
    }
   ],
   "source": [
    "ints = InCoreInts(ecore,h,g);\n",
    "\n",
    "na = 0\n",
    "nb = 0\n",
    "for f in init_fspace\n",
    "    na += f[1]\n",
    "    nb += f[2]\n",
    "end\n",
    "display(na)\n",
    "display(nb)\n",
    "# get initial guess for 1RDM\n",
    "tmp = eigen(ints.h1).vectors;\n",
    "rdm1a_guess = tmp[:,1:na]*tmp[:,1:na]';\n",
    "rdm1b_guess = tmp[:,1:nb]*tmp[:,1:nb]';\n",
    "# eigen(ints.h1).values\n"
   ]
  },
  {
   "cell_type": "code",
   "execution_count": 87,
   "id": "heard-specification",
   "metadata": {},
   "outputs": [
    {
     "name": "stdout",
     "output_type": "stream",
     "text": [
      " ooCMF Iter:    1 Total= -115.877567420665 Active= -115.877567420665 G=     8.73e-01\n",
      " ooCMF Iter:    2 Total= -116.127452249661 Active= -116.127452249661 G=     5.87e-01\n",
      " ooCMF Iter:    3 Total= -116.296874821862 Active= -116.296874821862 G=     3.30e-01\n",
      " ooCMF Iter:    4 Total= -116.371647277115 Active= -116.371647277115 G=     1.50e-01\n",
      " ooCMF Iter:    5 Total= -116.373593160830 Active= -116.373593160830 G=     1.58e-01\n",
      " ooCMF Iter:    6 Total= -116.373476787237 Active= -116.373476787237 G=     1.78e-01\n"
     ]
    },
    {
     "data": {
      "text/plain": [
       " * Status: failure (objective increased between iterations)\n",
       "\n",
       " * Candidate solution\n",
       "    Final objective value:     -1.163734e+02\n",
       "\n",
       " * Found with\n",
       "    Algorithm:     BFGS\n",
       "\n",
       " * Convergence measures\n",
       "    |x - x'|               = 4.61e-02 ≰ 0.0e+00\n",
       "    |x - x'|/|x'|          = 4.45e-02 ≰ 0.0e+00\n",
       "    |f(x) - f(x')|         = 1.16e-04 ≰ 0.0e+00\n",
       "    |f(x) - f(x')|/|f(x')| = 1.00e-06 ≰ 0.0e+00\n",
       "    |g(x)|                 = 3.95e-02 ≰ 1.0e-06\n",
       "\n",
       " * Work counters\n",
       "    Seconds run:   42  (vs limit Inf)\n",
       "    Iterations:    6\n",
       "    f(x) calls:    123\n",
       "    ∇f(x) calls:   123\n"
      ]
     },
     "metadata": {},
     "output_type": "display_data"
    },
    {
     "name": "stdout",
     "output_type": "stream",
     "text": [
      "*ooCMF -116.37336041 \n"
     ]
    },
    {
     "name": "stderr",
     "output_type": "stream",
     "text": [
      "┌ Warning:  energy increased\n",
      "└ @ FermiCG /Users/nmayhall/code/FermiCG/src/CMFs.jl:724\n"
     ]
    }
   ],
   "source": [
    "\n",
    "e_cmf, U, Da, Db  = FermiCG.cmf_oo(ints, clusters, init_fspace, rdm1a_guess, rdm1b_guess,\n",
    "                                        max_iter_oo=10, verbose=0, gconv=1e-6, method=\"bfgs\");\n",
    "ints2 = FermiCG.orbital_rotation(ints,U);\n"
   ]
  },
  {
   "cell_type": "code",
   "execution_count": 88,
   "id": "exact-national",
   "metadata": {},
   "outputs": [
    {
     "name": "stdout",
     "output_type": "stream",
     "text": [
      " ooCMF Iter:    1 Total= -116.373360401172 Active= -116.373360401172 G=     1.76e-01\n",
      " ooCMF Iter:    2 Total= -116.386971263498 Active= -116.386971263498 G=     6.73e-02\n",
      " ooCMF Iter:    3 Total= -116.390706391680 Active= -116.390706391680 G=     4.62e-02\n",
      " ooCMF Iter:    4 Total= -116.395416170957 Active= -116.395416170957 G=     6.64e-02\n",
      " ooCMF Iter:    5 Total= -116.402968079166 Active= -116.402968079166 G=     6.02e-02\n",
      " ooCMF Iter:    6 Total= -116.406108043379 Active= -116.406108043379 G=     3.64e-02\n",
      " ooCMF Iter:    7 Total= -116.407256662454 Active= -116.407256662454 G=     2.82e-02\n",
      " ooCMF Iter:    8 Total= -116.408192867290 Active= -116.408192867290 G=     2.34e-02\n",
      " ooCMF Iter:    9 Total= -116.408470285004 Active= -116.408470285004 G=     1.66e-02\n",
      " ooCMF Iter:   10 Total= -116.408683014419 Active= -116.408683014419 G=     1.81e-02\n",
      " ooCMF Iter:   11 Total= -116.408995670425 Active= -116.408995670425 G=     2.21e-02\n",
      " ooCMF Iter:   12 Total= -116.409473971890 Active= -116.409473971890 G=     2.66e-02\n",
      " ooCMF Iter:   13 Total= -116.409822214848 Active= -116.409822214848 G=     2.62e-02\n",
      " ooCMF Iter:   14 Total= -116.410143199365 Active= -116.410143199365 G=     2.47e-02\n",
      " ooCMF Iter:   15 Total= -116.410456568588 Active= -116.410456568588 G=     2.47e-02\n",
      " ooCMF Iter:   16 Total= -116.410967575773 Active= -116.410967575773 G=     2.87e-02\n",
      " ooCMF Iter:   17 Total= -116.411576085777 Active= -116.411576085777 G=     3.34e-02\n",
      " ooCMF Iter:   18 Total= -116.412284294565 Active= -116.412284294565 G=     3.61e-02\n",
      " ooCMF Iter:   19 Total= -116.413037464435 Active= -116.413037464435 G=     3.81e-02\n",
      " ooCMF Iter:   20 Total= -116.413771616519 Active= -116.413771616519 G=     3.92e-02\n",
      " ooCMF Iter:   21 Total= -116.414767480175 Active= -116.414767480175 G=     4.52e-02\n",
      " ooCMF Iter:   22 Total= -116.415692844199 Active= -116.415692844199 G=     4.91e-02\n",
      " ooCMF Iter:   23 Total= -116.416767253318 Active= -116.416767253318 G=     4.52e-02\n",
      " ooCMF Iter:   24 Total= -116.417306602672 Active= -116.417306602672 G=     3.29e-02\n",
      " ooCMF Iter:   25 Total= -116.417754580973 Active= -116.417754580973 G=     2.50e-02\n",
      " ooCMF Iter:   26 Total= -116.417928029896 Active= -116.417928029896 G=     2.02e-02\n",
      " ooCMF Iter:   27 Total= -116.418064334080 Active= -116.418064334080 G=     1.70e-02\n",
      " ooCMF Iter:   28 Total= -116.418176083718 Active= -116.418176083718 G=     1.60e-02\n",
      " ooCMF Iter:   29 Total= -116.418323830343 Active= -116.418323830343 G=     1.68e-02\n",
      " ooCMF Iter:   30 Total= -116.418524592394 Active= -116.418524592394 G=     1.94e-02\n",
      " ooCMF Iter:   31 Total= -116.418699532317 Active= -116.418699532317 G=     2.07e-02\n",
      " ooCMF Iter:   32 Total= -116.418984889061 Active= -116.418984889061 G=     2.32e-02\n",
      " ooCMF Iter:   33 Total= -116.419295829878 Active= -116.419295829878 G=     2.52e-02\n",
      " ooCMF Iter:   34 Total= -116.419627744942 Active= -116.419627744942 G=     2.23e-02\n",
      " ooCMF Iter:   35 Total= -116.419793200051 Active= -116.419793200051 G=     1.62e-02\n",
      " ooCMF Iter:   36 Total= -116.419850046657 Active= -116.419850046657 G=     1.08e-02\n",
      " ooCMF Iter:   37 Total= -116.419904066134 Active= -116.419904066134 G=     7.90e-03\n",
      " ooCMF Iter:   38 Total= -116.419933428319 Active= -116.419933428319 G=     6.15e-03\n",
      " ooCMF Iter:   39 Total= -116.419955374488 Active= -116.419955374488 G=     5.66e-03\n",
      " ooCMF Iter:   40 Total= -116.419956446071 Active= -116.419956446071 G=     5.96e-03\n"
     ]
    },
    {
     "data": {
      "text/plain": [
       " * Status: failure (reached maximum number of iterations)\n",
       "\n",
       " * Candidate solution\n",
       "    Final objective value:     -1.164200e+02\n",
       "\n",
       " * Found with\n",
       "    Algorithm:     BFGS\n",
       "\n",
       " * Convergence measures\n",
       "    |x - x'|               = 4.79e-03 ≰ 0.0e+00\n",
       "    |x - x'|/|x'|          = 8.92e-03 ≰ 0.0e+00\n",
       "    |f(x) - f(x')|         = 1.58e-05 ≰ 0.0e+00\n",
       "    |f(x) - f(x')|/|f(x')| = 1.36e-07 ≰ 0.0e+00\n",
       "    |g(x)|                 = 1.42e-03 ≰ 1.0e-06\n",
       "\n",
       " * Work counters\n",
       "    Seconds run:   39  (vs limit Inf)\n",
       "    Iterations:    40\n",
       "    f(x) calls:    121\n",
       "    ∇f(x) calls:   121\n"
      ]
     },
     "metadata": {},
     "output_type": "display_data"
    },
    {
     "name": "stdout",
     "output_type": "stream",
     "text": [
      " ooCMF Iter:   41 Total= -116.419972233053 Active= -116.419972233053 G=     5.67e-03\n",
      "*ooCMF -116.41997223 \n"
     ]
    }
   ],
   "source": [
    "\n",
    "e_cmf, U, Da, Db  = FermiCG.cmf_oo(ints2, clusters, init_fspace, Da, Db,\n",
    "                                        max_iter_oo=40, verbose=0, gconv=1e-6, method=\"bfgs\");\n"
   ]
  },
  {
   "cell_type": "code",
   "execution_count": 96,
   "id": "incomplete-turner",
   "metadata": {},
   "outputs": [
    {
     "name": "stdout",
     "output_type": "stream",
     "text": [
      " ooCMF Iter:    1 Total= -116.419997218255 Active= -116.419997218255 G=     4.69e-03\n",
      " ooCMF Iter:    2 Total= -116.420008419930 Active= -116.420008419930 G=     2.65e-03\n",
      " ooCMF Iter:    3 Total= -116.420015395097 Active= -116.420015395097 G=     1.95e-03\n",
      " ooCMF Iter:    4 Total= -116.420019034652 Active= -116.420019034652 G=     2.17e-03\n",
      " ooCMF Iter:    5 Total= -116.420022708966 Active= -116.420022708966 G=     1.81e-03\n",
      " ooCMF Iter:    6 Total= -116.420024968278 Active= -116.420024968278 G=     2.09e-03\n",
      " ooCMF Iter:    7 Total= -116.420028482955 Active= -116.420028482955 G=     1.76e-03\n",
      " ooCMF Iter:    8 Total= -116.420030605708 Active= -116.420030605708 G=     2.06e-03\n",
      " ooCMF Iter:    9 Total= -116.420034087088 Active= -116.420034087088 G=     1.74e-03\n",
      " ooCMF Iter:   10 Total= -116.420036132172 Active= -116.420036132172 G=     2.04e-03\n",
      " ooCMF Iter:   11 Total= -116.420039611459 Active= -116.420039611459 G=     1.73e-03\n",
      " ooCMF Iter:   12 Total= -116.420041597616 Active= -116.420041597616 G=     2.03e-03\n",
      " ooCMF Iter:   13 Total= -116.420045087040 Active= -116.420045087040 G=     1.72e-03\n",
      " ooCMF Iter:   14 Total= -116.420047026125 Active= -116.420047026125 G=     2.02e-03\n",
      " ooCMF Iter:   15 Total= -116.420050531697 Active= -116.420050531697 G=     1.71e-03\n",
      " ooCMF Iter:   16 Total= -116.420052433141 Active= -116.420052433141 G=     2.01e-03\n",
      " ooCMF Iter:   17 Total= -116.420055957742 Active= -116.420055957742 G=     1.71e-03\n",
      " ooCMF Iter:   18 Total= -116.420057829593 Active= -116.420057829593 G=     2.01e-03\n",
      " ooCMF Iter:   19 Total= -116.420061374027 Active= -116.420061374027 G=     1.71e-03\n",
      " ooCMF Iter:   20 Total= -116.420063223515 Active= -116.420063223515 G=     2.00e-03\n",
      " ooCMF Iter:   21 Total= -116.420066786901 Active= -116.420066786901 G=     1.71e-03\n",
      " ooCMF Iter:   22 Total= -116.420068620893 Active= -116.420068620893 G=     2.00e-03\n",
      " ooCMF Iter:   23 Total= -116.420072200753 Active= -116.420072200753 G=     1.71e-03\n",
      " ooCMF Iter:   24 Total= -116.420074026175 Active= -116.420074026175 G=     2.00e-03\n",
      " ooCMF Iter:   25 Total= -116.420077618329 Active= -116.420077618329 G=     1.71e-03\n",
      " ooCMF Iter:   26 Total= -116.420079442591 Active= -116.420079442591 G=     2.01e-03\n",
      " ooCMF Iter:   27 Total= -116.420083040920 Active= -116.420083040920 G=     1.71e-03\n",
      " ooCMF Iter:   28 Total= -116.420084872335 Active= -116.420084872335 G=     2.01e-03\n",
      " ooCMF Iter:   29 Total= -116.420088468478 Active= -116.420088468478 G=     1.71e-03\n",
      " ooCMF Iter:   30 Total= -116.420090316665 Active= -116.420090316665 G=     2.01e-03\n",
      " ooCMF Iter:   31 Total= -116.420093899750 Active= -116.420093899750 G=     1.72e-03\n",
      " ooCMF Iter:   32 Total= -116.420095775929 Active= -116.420095775929 G=     2.01e-03\n",
      " ooCMF Iter:   33 Total= -116.420099332510 Active= -116.420099332510 G=     1.72e-03\n",
      " ooCMF Iter:   34 Total= -116.420101249572 Active= -116.420101249572 G=     2.01e-03\n",
      " ooCMF Iter:   35 Total= -116.420104764012 Active= -116.420104764012 G=     1.72e-03\n",
      " ooCMF Iter:   36 Total= -116.420106736173 Active= -116.420106736173 G=     2.02e-03\n",
      " ooCMF Iter:   37 Total= -116.420110191678 Active= -116.420110191678 G=     1.73e-03\n",
      " ooCMF Iter:   38 Total= -116.420112233598 Active= -116.420112233598 G=     2.02e-03\n",
      " ooCMF Iter:   39 Total= -116.420115613972 Active= -116.420115613972 G=     1.73e-03\n",
      " ooCMF Iter:   40 Total= -116.420117739348 Active= -116.420117739348 G=     2.02e-03\n"
     ]
    },
    {
     "data": {
      "text/plain": [
       " * Status: failure (reached maximum number of iterations)\n",
       "\n",
       " * Candidate solution\n",
       "    Final objective value:     -1.164201e+02\n",
       "\n",
       " * Found with\n",
       "    Algorithm:     Gradient Descent\n",
       "\n",
       " * Convergence measures\n",
       "    |x - x'|               = 8.21e-04 ≰ 0.0e+00\n",
       "    |x - x'|/|x'|          = 2.93e-02 ≰ 0.0e+00\n",
       "    |f(x) - f(x')|         = 3.29e-06 ≰ 0.0e+00\n",
       "    |f(x) - f(x')|/|f(x')| = 2.83e-08 ≰ 0.0e+00\n",
       "    |g(x)|                 = 4.54e-04 ≰ 1.0e-06\n",
       "\n",
       " * Work counters\n",
       "    Seconds run:   34  (vs limit Inf)\n",
       "    Iterations:    40\n",
       "    f(x) calls:    101\n",
       "    ∇f(x) calls:   101\n"
      ]
     },
     "metadata": {},
     "output_type": "display_data"
    },
    {
     "name": "stdout",
     "output_type": "stream",
     "text": [
      " ooCMF Iter:   41 Total= -116.420121031157 Active= -116.420121031157 G=     1.74e-03\n",
      "*ooCMF -116.42012103 \n"
     ]
    }
   ],
   "source": [
    "ints3 = FermiCG.orbital_rotation(ints2,U);\n",
    "e_cmf, U, Da, Db  = FermiCG.cmf_oo(ints3, clusters, init_fspace, Da, Db,\n",
    "                                        max_iter_oo=40, verbose=0, gconv=1e-6, method=\"gd\");\n"
   ]
  },
  {
   "cell_type": "code",
   "execution_count": 97,
   "id": "british-watts",
   "metadata": {},
   "outputs": [
    {
     "name": "stdout",
     "output_type": "stream",
     "text": [
      " ooCMF Iter:    1 Total= -116.420121033129 Active= -116.420121033129 G=     1.74e-03\n",
      " ooCMF Iter:    2 Total= -116.420123260869 Active= -116.420123260869 G=     2.03e-03\n",
      " ooCMF Iter:    3 Total= -116.421180328172 Active= -116.421180328172 G=     2.37e-02\n",
      " ooCMF Iter:    4 Total= -116.421260239944 Active= -116.421260239944 G=     1.15e-02\n",
      " ooCMF Iter:    5 Total= -116.421307963231 Active= -116.421307963231 G=     3.27e-03\n",
      " ooCMF Iter:    6 Total= -116.421330574064 Active= -116.421330574064 G=     3.65e-03\n",
      " ooCMF Iter:    7 Total= -116.421387711744 Active= -116.421387711744 G=     6.08e-03\n",
      " ooCMF Iter:    8 Total= -116.421432539951 Active= -116.421432539951 G=     5.06e-03\n",
      " ooCMF Iter:    9 Total= -116.421446692755 Active= -116.421446692755 G=     3.42e-03\n",
      " ooCMF Iter:   10 Total= -116.421462146655 Active= -116.421462146655 G=     3.05e-03\n",
      " ooCMF Iter:   11 Total= -116.421466891017 Active= -116.421466891017 G=     2.98e-03\n",
      " ooCMF Iter:   12 Total= -116.421469990404 Active= -116.421469990404 G=     2.78e-03\n",
      " ooCMF Iter:   13 Total= -116.421475571460 Active= -116.421475571460 G=     2.59e-03\n",
      " ooCMF Iter:   14 Total= -116.421481739341 Active= -116.421481739341 G=     2.88e-03\n",
      " ooCMF Iter:   15 Total= -116.421485418795 Active= -116.421485418795 G=     2.63e-03\n",
      " ooCMF Iter:   16 Total= -116.421487666147 Active= -116.421487666147 G=     2.20e-03\n",
      " ooCMF Iter:   17 Total= -116.421491762658 Active= -116.421491762658 G=     1.70e-03\n",
      " ooCMF Iter:   18 Total= -116.421497279580 Active= -116.421497279580 G=     2.14e-03\n",
      " ooCMF Iter:   19 Total= -116.421503356152 Active= -116.421503356152 G=     2.73e-03\n",
      " ooCMF Iter:   20 Total= -116.421507538735 Active= -116.421507538735 G=     2.56e-03\n",
      " ooCMF Iter:   21 Total= -116.421512710891 Active= -116.421512710891 G=     2.49e-03\n",
      " ooCMF Iter:   22 Total= -116.421518468742 Active= -116.421518468742 G=     2.06e-03\n",
      " ooCMF Iter:   23 Total= -116.421523585612 Active= -116.421523585612 G=     2.04e-03\n",
      " ooCMF Iter:   24 Total= -116.421527424396 Active= -116.421527424396 G=     1.93e-03\n",
      " ooCMF Iter:   25 Total= -116.421531172622 Active= -116.421531172622 G=     1.91e-03\n",
      " ooCMF Iter:   26 Total= -116.421535319617 Active= -116.421535319617 G=     1.85e-03\n",
      " ooCMF Iter:   27 Total= -116.421539129464 Active= -116.421539129464 G=     1.67e-03\n",
      " ooCMF Iter:   28 Total= -116.421541033811 Active= -116.421541033811 G=     1.74e-03\n",
      " ooCMF Iter:   29 Total= -116.421541717848 Active= -116.421541717848 G=     1.67e-03\n",
      " ooCMF Iter:   30 Total= -116.421542766888 Active= -116.421542766888 G=     1.87e-03\n",
      " ooCMF Iter:   31 Total= -116.421545049608 Active= -116.421545049608 G=     1.63e-03\n",
      " ooCMF Iter:   32 Total= -116.421547025347 Active= -116.421547025347 G=     1.60e-03\n",
      " ooCMF Iter:   33 Total= -116.421547372398 Active= -116.421547372398 G=     1.31e-03\n",
      " ooCMF Iter:   34 Total= -116.421547373933 Active= -116.421547373933 G=     1.22e-03\n",
      " ooCMF Iter:   35 Total= -116.421548071848 Active= -116.421548071848 G=     1.17e-03\n",
      " ooCMF Iter:   36 Total= -116.421549557258 Active= -116.421549557258 G=     1.18e-03\n",
      " ooCMF Iter:   37 Total= -116.421550671074 Active= -116.421550671074 G=     1.26e-03\n",
      " ooCMF Iter:   38 Total= -116.421551114173 Active= -116.421551114173 G=     1.13e-03\n",
      " ooCMF Iter:   39 Total= -116.421551849168 Active= -116.421551849168 G=     1.19e-03\n",
      " ooCMF Iter:   40 Total= -116.421553468405 Active= -116.421553468405 G=     1.12e-03\n"
     ]
    },
    {
     "data": {
      "text/plain": [
       " * Status: failure (reached maximum number of iterations)\n",
       "\n",
       " * Candidate solution\n",
       "    Final objective value:     -1.164216e+02\n",
       "\n",
       " * Found with\n",
       "    Algorithm:     BFGS\n",
       "\n",
       " * Convergence measures\n",
       "    |x - x'|               = 2.19e-03 ≰ 0.0e+00\n",
       "    |x - x'|/|x'|          = 4.35e-03 ≰ 0.0e+00\n",
       "    |f(x) - f(x')|         = 1.80e-06 ≰ 0.0e+00\n",
       "    |f(x) - f(x')|/|f(x')| = 1.55e-08 ≰ 0.0e+00\n",
       "    |g(x)|                 = 3.98e-04 ≰ 1.0e-06\n",
       "\n",
       " * Work counters\n",
       "    Seconds run:   40  (vs limit Inf)\n",
       "    Iterations:    40\n",
       "    f(x) calls:    123\n",
       "    ∇f(x) calls:   123\n"
      ]
     },
     "metadata": {},
     "output_type": "display_data"
    },
    {
     "name": "stdout",
     "output_type": "stream",
     "text": [
      " ooCMF Iter:   41 Total= -116.421555268925 Active= -116.421555268925 G=     1.24e-03\n",
      "*ooCMF -116.42155527 \n"
     ]
    }
   ],
   "source": [
    "ints4 = FermiCG.orbital_rotation(ints3,U);\n",
    "e_cmf, U, Da, Db  = FermiCG.cmf_oo(ints4, clusters, init_fspace, Da, Db,\n",
    "                                        max_iter_oo=40, verbose=0, gconv=1e-6, method=\"bfgs\");"
   ]
  },
  {
   "cell_type": "code",
   "execution_count": 98,
   "id": "loved-robertson",
   "metadata": {},
   "outputs": [
    {
     "name": "stdout",
     "output_type": "stream",
     "text": [
      " ooCMF Iter:    1 Total= -116.421555273756 Active= -116.421555273756 G=     1.24e-03\n",
      " ooCMF Iter:    2 Total= -116.421556318396 Active= -116.421556318396 G=     6.81e-04\n",
      " ooCMF Iter:    3 Total= -116.421556630364 Active= -116.421556630364 G=     6.09e-04\n",
      " ooCMF Iter:    4 Total= -116.421558695974 Active= -116.421558695974 G=     6.22e-04\n",
      " ooCMF Iter:    5 Total= -116.421558568476 Active= -116.421558568476 G=     5.66e-04\n",
      " ooCMF Iter:    6 Total= -116.421559369245 Active= -116.421559369245 G=     7.26e-04\n",
      " ooCMF Iter:    7 Total= -116.421561672578 Active= -116.421561672578 G=     7.33e-04\n",
      " ooCMF Iter:    8 Total= -116.421561844918 Active= -116.421561844918 G=     7.89e-04\n",
      " ooCMF Iter:    9 Total= -116.421563764474 Active= -116.421563764474 G=     7.60e-04\n",
      " ooCMF Iter:   10 Total= -116.421564802688 Active= -116.421564802688 G=     7.14e-04\n",
      " ooCMF Iter:   11 Total= -116.421564658260 Active= -116.421564658260 G=     6.97e-04\n",
      " ooCMF Iter:   12 Total= -116.421565100894 Active= -116.421565100894 G=     9.82e-04\n",
      " ooCMF Iter:   13 Total= -116.421565850504 Active= -116.421565850504 G=     1.04e-03\n",
      " ooCMF Iter:   14 Total= -116.421566823682 Active= -116.421566823682 G=     9.06e-04\n",
      " ooCMF Iter:   15 Total= -116.421567109688 Active= -116.421567109688 G=     9.85e-04\n",
      " ooCMF Iter:   16 Total= -116.421572544517 Active= -116.421572544517 G=     1.60e-03\n",
      " ooCMF Iter:   17 Total= -116.421578577427 Active= -116.421578577427 G=     1.74e-03\n",
      " ooCMF Iter:   18 Total= -116.421582462839 Active= -116.421582462839 G=     1.73e-03\n",
      " ooCMF Iter:   19 Total= -116.421594106934 Active= -116.421594106934 G=     1.91e-03\n",
      " ooCMF Iter:   20 Total= -116.421601599096 Active= -116.421601599096 G=     1.51e-03\n",
      " ooCMF Iter:   21 Total= -116.421604243595 Active= -116.421604243595 G=     1.78e-03\n",
      " ooCMF Iter:   22 Total= -116.421616213715 Active= -116.421616213715 G=     2.56e-03\n",
      " ooCMF Iter:   23 Total= -116.421627030709 Active= -116.421627030709 G=     2.16e-03\n",
      " ooCMF Iter:   24 Total= -116.421628002709 Active= -116.421628002709 G=     1.41e-03\n",
      " ooCMF Iter:   25 Total= -116.421632475683 Active= -116.421632475683 G=     1.31e-03\n",
      " ooCMF Iter:   26 Total= -116.421637436072 Active= -116.421637436072 G=     1.85e-03\n",
      " ooCMF Iter:   27 Total= -116.421642250556 Active= -116.421642250556 G=     1.90e-03\n",
      " ooCMF Iter:   28 Total= -116.421643317350 Active= -116.421643317350 G=     1.60e-03\n",
      " ooCMF Iter:   29 Total= -116.421650231581 Active= -116.421650231581 G=     1.95e-03\n",
      " ooCMF Iter:   30 Total= -116.421663694417 Active= -116.421663694417 G=     2.45e-03\n",
      " ooCMF Iter:   31 Total= -116.421672739464 Active= -116.421672739464 G=     1.83e-03\n",
      " ooCMF Iter:   32 Total= -116.421679107957 Active= -116.421679107957 G=     1.43e-03\n",
      " ooCMF Iter:   33 Total= -116.421681873214 Active= -116.421681873214 G=     1.56e-03\n",
      " ooCMF Iter:   34 Total= -116.421689256884 Active= -116.421689256884 G=     1.70e-03\n",
      " ooCMF Iter:   35 Total= -116.421695677013 Active= -116.421695677013 G=     1.71e-03\n",
      " ooCMF Iter:   36 Total= -116.421705124877 Active= -116.421705124877 G=     1.64e-03\n",
      " ooCMF Iter:   37 Total= -116.421709381630 Active= -116.421709381630 G=     1.53e-03\n",
      " ooCMF Iter:   38 Total= -116.421709434389 Active= -116.421709434389 G=     1.50e-03\n",
      " ooCMF Iter:   39 Total= -116.421713719375 Active= -116.421713719375 G=     1.46e-03\n",
      " ooCMF Iter:   40 Total= -116.421720519404 Active= -116.421720519404 G=     1.46e-03\n"
     ]
    },
    {
     "data": {
      "text/plain": [
       " * Status: failure (reached maximum number of iterations)\n",
       "\n",
       " * Candidate solution\n",
       "    Final objective value:     -1.164217e+02\n",
       "\n",
       " * Found with\n",
       "    Algorithm:     BFGS\n",
       "\n",
       " * Convergence measures\n",
       "    |x - x'|               = 4.56e-03 ≰ 0.0e+00\n",
       "    |x - x'|/|x'|          = 2.09e-02 ≰ 0.0e+00\n",
       "    |f(x) - f(x')|         = 2.28e-06 ≰ 0.0e+00\n",
       "    |f(x) - f(x')|/|f(x')| = 1.96e-08 ≰ 0.0e+00\n",
       "    |g(x)|                 = 3.31e-04 ≰ 1.0e-06\n",
       "\n",
       " * Work counters\n",
       "    Seconds run:   40  (vs limit Inf)\n",
       "    Iterations:    40\n",
       "    f(x) calls:    122\n",
       "    ∇f(x) calls:   122\n"
      ]
     },
     "metadata": {},
     "output_type": "display_data"
    },
    {
     "name": "stdout",
     "output_type": "stream",
     "text": [
      " ooCMF Iter:   41 Total= -116.421722799613 Active= -116.421722799613 G=     1.33e-03\n",
      "*ooCMF -116.42172280 \n"
     ]
    }
   ],
   "source": [
    "ints5 = FermiCG.orbital_rotation(ints4,U);\n",
    "e_cmf, U, Da, Db  = FermiCG.cmf_oo(ints5, clusters, init_fspace, Da, Db,\n",
    "                                        max_iter_oo=40, verbose=0, gconv=1e-6, method=\"bfgs\");"
   ]
  },
  {
   "cell_type": "code",
   "execution_count": 129,
   "id": "sought-inspiration",
   "metadata": {},
   "outputs": [
    {
     "name": "stdout",
     "output_type": "stream",
     "text": [
      " ooCMF Iter:    1 Total= -116.421763398626 Active= -116.421763398626 G=     4.18e-06\n",
      " ooCMF Iter:    2 Total= -116.421763397020 Active= -116.421763397020 G=     4.80e-06\n",
      " ooCMF Iter:    3 Total= -116.421763374366 Active= -116.421763374366 G=     6.82e-06\n",
      " ooCMF Iter:    4 Total= -116.421763371962 Active= -116.421763371962 G=     3.93e-06\n",
      " ooCMF Iter:    5 Total= -116.421763344951 Active= -116.421763344951 G=     6.52e-06\n",
      " ooCMF Iter:    6 Total= -116.421763354302 Active= -116.421763354302 G=     6.17e-06\n",
      " ooCMF Iter:    7 Total= -116.421763472835 Active= -116.421763472835 G=     1.83e-05\n",
      " ooCMF Iter:    8 Total= -116.421763465982 Active= -116.421763465982 G=     2.98e-05\n",
      " ooCMF Iter:    9 Total= -116.421763369930 Active= -116.421763369930 G=     2.32e-05\n",
      " ooCMF Iter:   10 Total= -116.421763420328 Active= -116.421763420328 G=     2.57e-05\n",
      " ooCMF Iter:   11 Total= -116.421763537481 Active= -116.421763537481 G=     3.56e-05\n",
      " ooCMF Iter:   12 Total= -116.421763473078 Active= -116.421763473078 G=     4.13e-05\n",
      " ooCMF Iter:   13 Total= -116.421763352112 Active= -116.421763352112 G=     2.44e-05\n",
      " ooCMF Iter:   14 Total= -116.421763385232 Active= -116.421763385232 G=     2.41e-05\n",
      " ooCMF Iter:   15 Total= -116.421763475191 Active= -116.421763475191 G=     3.01e-05\n",
      " ooCMF Iter:   16 Total= -116.421763327288 Active= -116.421763327288 G=     2.34e-05\n",
      " ooCMF Iter:   17 Total= -116.421763346920 Active= -116.421763346920 G=     2.23e-05\n",
      " ooCMF Iter:   18 Total= -116.421763474619 Active= -116.421763474619 G=     3.29e-05\n",
      " ooCMF Iter:   19 Total= -116.421763444676 Active= -116.421763444676 G=     3.00e-05\n",
      " ooCMF Iter:   20 Total= -116.421763455930 Active= -116.421763455930 G=     2.21e-05\n"
     ]
    },
    {
     "data": {
      "text/plain": [
       " * Status: failure (reached maximum number of iterations)\n",
       "\n",
       " * Candidate solution\n",
       "    Final objective value:     -1.164218e+02\n",
       "\n",
       " * Found with\n",
       "    Algorithm:     BFGS\n",
       "\n",
       " * Convergence measures\n",
       "    |x - x'|               = 4.46e-04 ≰ 0.0e+00\n",
       "    |x - x'|/|x'|          = 4.66e-02 ≰ 0.0e+00\n",
       "    |f(x) - f(x')|         = 5.20e-08 ≰ 0.0e+00\n",
       "    |f(x) - f(x')|/|f(x')| = 4.46e-10 ≰ 0.0e+00\n",
       "    |g(x)|                 = 6.71e-06 ≰ 1.0e-06\n",
       "\n",
       " * Work counters\n",
       "    Seconds run:   21  (vs limit Inf)\n",
       "    Iterations:    20\n",
       "    f(x) calls:    68\n",
       "    ∇f(x) calls:   68\n"
      ]
     },
     "metadata": {},
     "output_type": "display_data"
    },
    {
     "name": "stdout",
     "output_type": "stream",
     "text": [
      " ooCMF Iter:   21 Total= -116.421763507888 Active= -116.421763507888 G=     2.91e-05\n",
      "*ooCMF -116.42176351 \n"
     ]
    }
   ],
   "source": [
    "ints5 = FermiCG.orbital_rotation(ints5,U);\n",
    "e_cmf, U, Da, Db  = FermiCG.cmf_oo(ints5, clusters, init_fspace, Da, Db,\n",
    "                                        max_iter_oo=20, verbose=0, gconv=1e-6, method=\"bfgs\");"
   ]
  },
  {
   "cell_type": "code",
   "execution_count": null,
   "id": "recognized-development",
   "metadata": {},
   "outputs": [],
   "source": []
  }
 ],
 "metadata": {
  "kernelspec": {
   "display_name": "Julia 1.5.2",
   "language": "julia",
   "name": "julia-1.5"
  },
  "language_info": {
   "file_extension": ".jl",
   "mimetype": "application/julia",
   "name": "julia",
   "version": "1.5.2"
  }
 },
 "nbformat": 4,
 "nbformat_minor": 5
}
