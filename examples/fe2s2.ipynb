{
 "cells": [
  {
   "cell_type": "code",
   "execution_count": 23,
   "id": "bizarre-chuck",
   "metadata": {},
   "outputs": [],
   "source": [
    "using FermiCG\n",
    "using PyCall\n",
    "using Plots\n",
    "using LinearAlgebra\n",
    "using Printf"
   ]
  },
  {
   "cell_type": "markdown",
   "id": "fatty-clinic",
   "metadata": {},
   "source": [
    "## Import PYSCF data"
   ]
  },
  {
   "cell_type": "code",
   "execution_count": 24,
   "id": "static-playing",
   "metadata": {},
   "outputs": [],
   "source": [
    "pyscf = pyimport(\"pyscf\");\n",
    "fcidump = pyimport(\"pyscf.tools.fcidump\");\n",
    "ctx = fcidump.read(\"fe2s2\");\n",
    "h = ctx[\"H1\"];\n",
    "g = ctx[\"H2\"];\n",
    "ecore = ctx[\"ECORE\"];\n",
    "g = pyscf.ao2mo.restore(\"1\", g, size(h,2));"
   ]
  },
  {
   "cell_type": "code",
   "execution_count": 76,
   "id": "distant-distribution",
   "metadata": {},
   "outputs": [
    {
     "data": {
      "text/plain": [
       "6-element Array{Cluster,1}:\n",
       " Cluster(1, [1, 2])\n",
       " Cluster(2, [3, 4, 5, 6, 7])\n",
       " Cluster(3, [8, 10, 12])\n",
       " Cluster(4, [9, 11, 13])\n",
       " Cluster(5, [14, 15, 16, 17, 18])\n",
       " Cluster(6, [19, 20])"
      ]
     },
     "metadata": {},
     "output_type": "display_data"
    }
   ],
   "source": [
    "# blocking from paper\n",
    "blocks = [[0,1],[2,3,4,5,6],[7,9,11],[8,10,12],[13,14,15,16,17],[18,19]]\n",
    "init_fspace = ((2,2),(5,0),(3,3),(3,3),(5,0),(2,2))\n",
    "\n",
    "for b in blocks\n",
    "    b .+= 1\n",
    "end\n",
    "clusters = [Cluster(i,collect(blocks[i])) for i = 1:length(blocks)]\n",
    "display(clusters)"
   ]
  },
  {
   "cell_type": "code",
   "execution_count": 41,
   "id": "surrounded-collective",
   "metadata": {},
   "outputs": [
    {
     "data": {
      "text/plain": [
       "3-element Array{Cluster,1}:\n",
       " Cluster(1, [1, 2, 3, 4, 7, 8, 9])\n",
       " Cluster(2, [12, 13, 14, 17, 18, 19, 20])\n",
       " Cluster(3, [5, 6, 10, 11, 15, 16])"
      ]
     },
     "metadata": {},
     "output_type": "display_data"
    }
   ],
   "source": [
    "# blocking 1\n",
    "blocks = [  [0,1,2,3,6,7,8],        # L1(sig)+ Fe1(t) + L2(sig)\n",
    "            [11,12,13,16,17,18,19], # L2(sig)+ Fe2(t) + L3(sig)\n",
    "            [4,5,9,10,14,15],       # Fe1(e) + Fe2(e) + L2(pi)\n",
    "         ]\n",
    "\n",
    "init_fspace = ((7,4), (7,4), (4,4))\n",
    "\n",
    "for b in blocks\n",
    "    b .+= 1\n",
    "end\n",
    "clusters = [Cluster(i,collect(blocks[i])) for i = 1:length(blocks)]\n",
    "display(clusters)\n"
   ]
  },
  {
   "cell_type": "code",
   "execution_count": 77,
   "id": "applied-audience",
   "metadata": {},
   "outputs": [
    {
     "data": {
      "text/plain": [
       "20"
      ]
     },
     "metadata": {},
     "output_type": "display_data"
    },
    {
     "data": {
      "text/plain": [
       "10"
      ]
     },
     "metadata": {},
     "output_type": "display_data"
    }
   ],
   "source": [
    "ints = InCoreInts(ecore,h,g);\n",
    "\n",
    "na = 0\n",
    "nb = 0\n",
    "for f in init_fspace\n",
    "    na += f[1]\n",
    "    nb += f[2]\n",
    "end\n",
    "display(na)\n",
    "display(nb)\n",
    "# get initial guess for 1RDM\n",
    "tmp = eigen(ints.h1).vectors;\n",
    "rdm1a_guess = tmp[:,1:na]*tmp[:,1:na]';\n",
    "rdm1b_guess = tmp[:,1:nb]*tmp[:,1:nb]';\n",
    "# eigen(ints.h1).values\n"
   ]
  },
  {
   "cell_type": "code",
   "execution_count": 79,
   "id": "heard-specification",
   "metadata": {},
   "outputs": [
    {
     "name": "stdout",
     "output_type": "stream",
     "text": [
      " ooCMF Iter:    1 Total= -115.958971122269 Active= -115.958971122269 G=     5.70e-01\n",
      " ooCMF Iter:    2 Total= -116.448055747038 Active= -116.448055747038 G=     2.81e-01\n",
      " ooCMF Iter:    3 Total= -116.486525849064 Active= -116.486525849064 G=     1.54e-01\n",
      " ooCMF Iter:    4 Total= -116.504043334134 Active= -116.504043334134 G=     7.40e-02\n",
      " ooCMF Iter:    5 Total= -116.505837551261 Active= -116.505837551261 G=     2.62e-02\n",
      " ooCMF Iter:    6 Total= -116.506350505937 Active= -116.506350505937 G=     1.27e-02\n",
      " ooCMF Iter:    7 Total= -116.506659694172 Active= -116.506659694172 G=     8.58e-03\n",
      " ooCMF Iter:    8 Total= -116.506638041940 Active= -116.506638041940 G=     3.49e-03\n",
      " ooCMF Iter:    9 Total= -116.506628683570 Active= -116.506628683570 G=     1.44e-03\n",
      " ooCMF Iter:   10 Total= -116.506636245488 Active= -116.506636245488 G=     5.59e-04\n",
      " ooCMF Iter:   11 Total= -116.506631250518 Active= -116.506631250518 G=     2.65e-04\n",
      " ooCMF Iter:   12 Total= -116.506632766317 Active= -116.506632766317 G=     1.75e-04\n",
      " ooCMF Iter:   13 Total= -116.506634439447 Active= -116.506634439447 G=     8.22e-05\n",
      " ooCMF Iter:   14 Total= -116.506633164574 Active= -116.506633164574 G=     2.91e-05\n",
      " ooCMF Iter:   15 Total= -116.506632890755 Active= -116.506632890755 G=     1.76e-05\n",
      " ooCMF Iter:   16 Total= -116.506633052536 Active= -116.506633052536 G=     9.45e-06\n",
      " ooCMF Iter:   17 Total= -116.506633104373 Active= -116.506633104373 G=     4.15e-06\n",
      " ooCMF Iter:   18 Total= -116.506633079971 Active= -116.506633079971 G=     3.00e-06\n",
      " ooCMF Iter:   19 Total= -116.506633076296 Active= -116.506633076296 G=     1.92e-06\n",
      " ooCMF Iter:   20 Total= -116.506633085913 Active= -116.506633085913 G=     9.94e-07\n",
      " ooCMF Iter:   21 Total= -116.506633080863 Active= -116.506633080863 G=     5.09e-07\n",
      " ooCMF Iter:   22 Total= -116.506633079421 Active= -116.506633079421 G=     2.19e-07\n",
      " ooCMF Iter:   23 Total= -116.506633082258 Active= -116.506633082258 G=     1.23e-07\n",
      " ooCMF Iter:   24 Total= -116.506633082405 Active= -116.506633082405 G=     8.57e-08\n",
      " ooCMF Iter:   25 Total= -116.506633081538 Active= -116.506633081538 G=     4.51e-08\n",
      " ooCMF Iter:   26 Total= -116.506633081676 Active= -116.506633081676 G=     2.86e-08\n",
      " ooCMF Iter:   27 Total= -116.506633081822 Active= -116.506633081822 G=     1.41e-08\n",
      " ooCMF Iter:   28 Total= -116.506633081736 Active= -116.506633081736 G=     6.36e-09\n",
      " ooCMF Iter:   29 Total= -116.506633081735 Active= -116.506633081735 G=     3.86e-09\n"
     ]
    },
    {
     "data": {
      "text/plain": [
       " * Status: success\n",
       "\n",
       " * Candidate solution\n",
       "    Final objective value:     -1.165066e+02\n",
       "\n",
       " * Found with\n",
       "    Algorithm:     BFGS\n",
       "\n",
       " * Convergence measures\n",
       "    |x - x'|               = 2.85e-09 ≰ 0.0e+00\n",
       "    |x - x'|/|x'|          = 7.47e-09 ≰ 0.0e+00\n",
       "    |f(x) - f(x')|         = 2.74e-11 ≰ 0.0e+00\n",
       "    |f(x) - f(x')|/|f(x')| = 2.35e-13 ≰ 0.0e+00\n",
       "    |g(x)|                 = 4.66e-10 ≤ 1.0e-09\n",
       "\n",
       " * Work counters\n",
       "    Seconds run:   2  (vs limit Inf)\n",
       "    Iterations:    29\n",
       "    f(x) calls:    87\n",
       "    ∇f(x) calls:   87\n"
      ]
     },
     "metadata": {},
     "output_type": "display_data"
    },
    {
     "name": "stdout",
     "output_type": "stream",
     "text": [
      " ooCMF Iter:   30 Total= -116.506633081762 Active= -116.506633081762 G=     2.11e-09\n",
      "*ooCMF -116.50663308 \n"
     ]
    }
   ],
   "source": [
    "e_cmf, U, Da, Db  = FermiCG.cmf_oo(ints, clusters, init_fspace, rdm1a_guess, rdm1b_guess,\n",
    "                                        max_iter_oo=40, verbose=0, gconv=1e-9, method=\"bfgs\");\n",
    "ints2 = FermiCG.orbital_rotation(ints,U);\n"
   ]
  },
  {
   "cell_type": "code",
   "execution_count": 81,
   "id": "recognized-development",
   "metadata": {},
   "outputs": [
    {
     "name": "stdout",
     "output_type": "stream",
     "text": [
      " ooCMF Iter:    1 Total= -116.506633081762 Active= -116.506633081762 G=     2.85e-02\n",
      " ooCMF Iter:    2 Total= -116.507068495076 Active= -116.507068495076 G=     9.04e-03\n",
      " ooCMF Iter:    3 Total= -116.507124640709 Active= -116.507124640709 G=     2.19e-03\n",
      " ooCMF Iter:    4 Total= -116.507129879271 Active= -116.507129879271 G=     1.16e-03\n",
      " ooCMF Iter:    5 Total= -116.507131679987 Active= -116.507131679987 G=     6.54e-04\n",
      " ooCMF Iter:    6 Total= -116.507132160106 Active= -116.507132160106 G=     3.05e-04\n",
      " ooCMF Iter:    7 Total= -116.507132227701 Active= -116.507132227701 G=     1.45e-04\n",
      " ooCMF Iter:    8 Total= -116.507132246909 Active= -116.507132246909 G=     6.64e-05\n",
      " ooCMF Iter:    9 Total= -116.507132249885 Active= -116.507132249885 G=     3.19e-05\n",
      " ooCMF Iter:   10 Total= -116.507132250670 Active= -116.507132250670 G=     6.81e-06\n"
     ]
    },
    {
     "data": {
      "text/plain": [
       " * Status: success\n",
       "\n",
       " * Candidate solution\n",
       "    Final objective value:     -1.165071e+02\n",
       "\n",
       " * Found with\n",
       "    Algorithm:     BFGS\n",
       "\n",
       " * Convergence measures\n",
       "    |x - x'|               = 3.10e-06 ≰ 0.0e+00\n",
       "    |x - x'|/|x'|          = 3.02e-04 ≰ 0.0e+00\n",
       "    |f(x) - f(x')|         = 3.61e-11 ≰ 0.0e+00\n",
       "    |f(x) - f(x')|/|f(x')| = 3.10e-13 ≰ 0.0e+00\n",
       "    |g(x)|                 = 8.95e-07 ≤ 1.0e-06\n",
       "\n",
       " * Work counters\n",
       "    Seconds run:   188  (vs limit Inf)\n",
       "    Iterations:    10\n",
       "    f(x) calls:    31\n",
       "    ∇f(x) calls:   31\n"
      ]
     },
     "metadata": {},
     "output_type": "display_data"
    },
    {
     "name": "stdout",
     "output_type": "stream",
     "text": [
      " ooCMF Iter:   11 Total= -116.507132250706 Active= -116.507132250706 G=     2.74e-06\n",
      "*ooCMF -116.50713225 \n"
     ]
    }
   ],
   "source": [
    "e_cmf2, U2, Da2, Db2  = FermiCG.cmf_oo(ints2, clusters, init_fspace, rdm1a_guess, rdm1b_guess,\n",
    "                                        max_iter_oo=40, verbose=0, gconv=1e-6, method=\"bfgs\");\n"
   ]
  },
  {
   "cell_type": "code",
   "execution_count": null,
   "id": "f1f40d23",
   "metadata": {},
   "outputs": [],
   "source": []
  }
 ],
 "metadata": {
  "kernelspec": {
   "display_name": "Julia 1.5.2",
   "language": "julia",
   "name": "julia-1.5"
  },
  "language_info": {
   "file_extension": ".jl",
   "mimetype": "application/julia",
   "name": "julia",
   "version": "1.5.2"
  }
 },
 "nbformat": 4,
 "nbformat_minor": 5
}
