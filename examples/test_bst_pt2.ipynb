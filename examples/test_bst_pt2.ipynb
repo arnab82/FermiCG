{
 "cells": [
  {
   "cell_type": "code",
   "execution_count": 1,
   "metadata": {},
   "outputs": [
    {
     "name": "stdout",
     "output_type": "stream",
     "text": [
      " Remove duplicates\n"
     ]
    },
    {
     "name": "stdout",
     "output_type": "stream",
     "text": [
      " Number of terms reduced from  2525 to  1105\n",
      "IDX001:DIM0016:"
     ]
    },
    {
     "name": "stdout",
     "output_type": "stream",
     "text": [
      "001|002|\n"
     ]
    },
    {
     "name": "stdout",
     "output_type": "stream",
     "text": [
      "IDX002:DIM0016:003|004|\n"
     ]
    },
    {
     "name": "stdout",
     "output_type": "stream",
     "text": [
      "IDX003:DIM0256:005|006|007|008|\n"
     ]
    },
    {
     "name": "stdout",
     "output_type": "stream",
     "text": [
      "IDX004:DIM0016:009|010|\n"
     ]
    },
    {
     "name": "stdout",
     "output_type": "stream",
     "text": [
      "IDX005:DIM0016:011|012|\n"
     ]
    },
    {
     "name": "stdout",
     "output_type": "stream",
     "text": [
      " Number of tasks:                                         661\n",
      " Compute tasks:                                    \n"
     ]
    },
    {
     "name": "stdout",
     "output_type": "stream",
     "text": [
      " Time building compressed vector:                   59.616379 seconds   1.31e+01 Gb GC: 2.2e+00 sec\n"
     ]
    },
    {
     "name": "stdout",
     "output_type": "stream",
     "text": [
      " Add results together:                               0.209523 seconds   5.80e-02 Gb GC: 1.2e-02 sec\n"
     ]
    },
    {
     "name": "stdout",
     "output_type": "stream",
     "text": [
      " In open_matvec_thread\n",
      " Setup threaded jobs:                                0.000881 seconds (1.58 k allocations: 145.469 KiB)\n",
      " Number of jobs:    "
     ]
    },
    {
     "name": "stdout",
     "output_type": "stream",
     "text": [
      "525\n",
      " Number of threads: 4\n"
     ]
    },
    {
     "name": "stdout",
     "output_type": "stream",
     "text": [
      " Compute matrix-vector:                            "
     ]
    },
    {
     "name": "stdout",
     "output_type": "stream",
     "text": [
      "  3.284795 seconds (15.26 M allocations: 733.249 MiB, 3.94% gc time, 99.80% compilation time)\n"
     ]
    },
    {
     "name": "stdout",
     "output_type": "stream",
     "text": [
      " Now collect thread results :                      "
     ]
    },
    {
     "name": "stdout",
     "output_type": "stream",
     "text": [
      "  0.011717 seconds (1.96 k allocations: 113.500 KiB, 98.03% compilation time)\n"
     ]
    },
    {
     "name": "stdout",
     "output_type": "stream",
     "text": [
      "size(s_bst) = (16298, 1)\n",
      "size(s_tps) = (49378, 1)\n"
     ]
    }
   ],
   "source": [
    "using FermiCG\n",
    "using Printf\n",
    "using Test\n",
    "using JLD2 \n",
    "\n",
    "@load \"../test/_testdata_cmf_h12_64bit.jld2\"\n",
    "\n",
    "clustered_ham = FermiCG.extract_ClusteredTerms(ints, clusters)\n",
    "cluster_ops = FermiCG.compute_cluster_ops(cluster_bases, ints);\n",
    "FermiCG.add_cmf_operators!(cluster_ops, cluster_bases, ints, d1.a, d1.b);\n",
    "\n",
    "v_bst = FermiCG.BSTstate(clusters, FockConfig(init_fspace), cluster_bases)\n",
    "v_tps = FermiCG.TPSCIstate(clusters, FockConfig(init_fspace))\n",
    "FermiCG.eye!(v_tps)\n",
    "\n",
    "s_bst = FermiCG.build_compressed_1st_order_state(v_bst, cluster_ops, clustered_ham, nbody=4, thresh=1e-24)\n",
    "s_tps = FermiCG.open_matvec_thread(v_tps, cluster_ops, clustered_ham, thresh=1e-32)\n",
    "\n",
    "@show size(s_bst);\n",
    "@show size(s_tps);\n",
    "\n",
    "\n",
    "\n"
   ]
  },
  {
   "attachments": {},
   "cell_type": "markdown",
   "metadata": {},
   "source": [
    "# BST PT2"
   ]
  },
  {
   "cell_type": "code",
   "execution_count": 2,
   "metadata": {},
   "outputs": [
    {
     "name": "stdout",
     "output_type": "stream",
     "text": [
      " |== BST CI ========================================================\n",
      " Solve CI with # variables:                                 1\n",
      " Cache Hamiltonian:                                "
     ]
    },
    {
     "name": "stdout",
     "output_type": "stream",
     "text": [
      "  1.574623 seconds (3.06 M allocations: 183.109 MiB, 2.06% gc time, 99.25% compilation time)\n"
     ]
    },
    {
     "name": "stdout",
     "output_type": "stream",
     "text": [
      " Iter:   1 SS: 1    E: "
     ]
    },
    {
     "name": "stdout",
     "output_type": "stream",
     "text": [
      " -18.31710895*  R: 0.0e+00*  LinDep: 0.0e+00* \n"
     ]
    },
    {
     "name": "stdout",
     "output_type": "stream",
     "text": [
      " Diagonalization time:                               0.617404 seconds\n",
      " Compute <S^2>:                                    "
     ]
    },
    {
     "name": "stdout",
     "output_type": "stream",
     "text": [
      "  0.002566 seconds (2.05 k allocations: 443.459 KiB, 71.95% compilation time)\n"
     ]
    },
    {
     "name": "stdout",
     "output_type": "stream",
     "text": [
      "  Root       Energy           S2\n",
      "     1 -18.31710895   0.00000000\n"
     ]
    },
    {
     "name": "stdout",
     "output_type": "stream",
     "text": [
      " ==================================================================|\n",
      " |== Compute PT2 Energy ============================================\n"
     ]
    },
    {
     "name": "stdout",
     "output_type": "stream",
     "text": [
      " H0          : Hcmf\n",
      " max_iter    : 100\n",
      " nbody       : 4\n",
      " thresh_foi  : 1.0e-6\n",
      " max_number  : nothing\n",
      " tol         : 1.0e-12\n",
      " opt_ref     : true\n",
      " verbose     : 0\n",
      "\n",
      " Length of Reference:                                       1\n",
      " Solve zeroth-order problem:                       \n",
      " |== BST CI ========================================================\n",
      " Solve CI with # variables:                                 1\n",
      " Cache Hamiltonian:                                "
     ]
    },
    {
     "name": "stdout",
     "output_type": "stream",
     "text": [
      "  0.029582 seconds (4.08 k allocations: 30.747 MiB, 64.75% gc time)\n"
     ]
    },
    {
     "name": "stdout",
     "output_type": "stream",
     "text": [
      " Iter:   1 SS: 1    E:  -18.31710895*  R: 0.0e+00*  LinDep: 0.0e+00* \n"
     ]
    },
    {
     "name": "stdout",
     "output_type": "stream",
     "text": [
      " Diagonalization time:                               0.000881 seconds\n",
      " Compute <S^2>:                                    "
     ]
    },
    {
     "name": "stdout",
     "output_type": "stream",
     "text": [
      "  0.000342 seconds (1.35 k allocations: 399.688 KiB)\n"
     ]
    },
    {
     "name": "stdout",
     "output_type": "stream",
     "text": [
      "  Root       Energy           S2\n",
      "     1 -18.31710895   0.00000000\n",
      " ==================================================================|\n",
      " Diagonalization time:                               0.035689 seconds\n"
     ]
    },
    {
     "name": "stdout",
     "output_type": "stream",
     "text": [
      " Compute <0|H0|0>:                                 "
     ]
    },
    {
     "name": "stdout",
     "output_type": "stream",
     "text": [
      "  0.008108 seconds (8.92 k allocations: 843.528 KiB, 91.27% compilation time)\n"
     ]
    },
    {
     "name": "stdout",
     "output_type": "stream",
     "text": [
      " Number of jobs:    525\n",
      " Number of threads: 4\n"
     ]
    },
    {
     "name": "stdout",
     "output_type": "stream",
     "text": [
      "----------------------------------------------------------------------------------------------------"
     ]
    },
    {
     "name": "stdout",
     "output_type": "stream",
     "text": [
      " Time spent computing E2:                               5.9 s Allocated:    2.0e+00 GB\n",
      " State   1: E(PT2) corr:                          -0.00988248\n",
      " State   1: E(PT2):                              -18.32699143\n",
      " ==================================================================|\n"
     ]
    }
   ],
   "source": [
    "e_var = FermiCG.ci_solve(v_bst, cluster_ops, clustered_ham);\n",
    "e_pt = FermiCG.compute_pt2_energy(v_bst, cluster_ops, clustered_ham, thresh_foi=1e-6, max_iter=100, tol=1e-12, verbose=0);"
   ]
  },
  {
   "cell_type": "code",
   "execution_count": 30,
   "metadata": {},
   "outputs": [
    {
     "name": "stdout",
     "output_type": "stream",
     "text": [
      " |== BST CI ========================================================\n",
      " Solve CI with # variables:                                 1\n",
      " Cache Hamiltonian:                                "
     ]
    },
    {
     "name": "stdout",
     "output_type": "stream",
     "text": [
      "  0.001327 seconds (4.08 k allocations: 30.747 MiB)\n"
     ]
    },
    {
     "name": "stdout",
     "output_type": "stream",
     "text": [
      " Iter:   1 SS: 1    E:  -18.31710895*  R: 0.0e+00*  LinDep: 0.0e+00* \n"
     ]
    },
    {
     "name": "stdout",
     "output_type": "stream",
     "text": [
      " Diagonalization time:                               0.000823 seconds\n",
      " Compute <S^2>:                                    "
     ]
    },
    {
     "name": "stdout",
     "output_type": "stream",
     "text": [
      "  0.000378 seconds (1.35 k allocations: 399.688 KiB)\n"
     ]
    },
    {
     "name": "stdout",
     "output_type": "stream",
     "text": [
      "  Root       Energy           S2\n",
      "     1 -18.31710895   0.00000000\n",
      " ==================================================================|\n",
      " Number of tasks:                                         661\n",
      " Compute tasks:                                    \n",
      " Time building compressed vector:                    0.038841 seconds   6.24e-02 Gb GC: 0.0e+00 sec\n"
     ]
    },
    {
     "name": "stdout",
     "output_type": "stream",
     "text": [
      " Add results together:                               0.050590 seconds   1.76e-02 Gb GC: 1.4e-02 sec\n"
     ]
    },
    {
     "name": "stdout",
     "output_type": "stream",
     "text": [
      " Length of input      FOIS:                             16396\n"
     ]
    },
    {
     "name": "stdout",
     "output_type": "stream",
     "text": [
      " Compute <X|V|0>:                                    0.009403 seconds   1.10e-02 Gb\n"
     ]
    },
    {
     "name": "stdout",
     "output_type": "stream",
     "text": [
      "  Root      <0|H|0>      <0|F|0>\n",
      "     1 -18.31710895 -10.81361409\n"
     ]
    },
    {
     "name": "stdout",
     "output_type": "stream",
     "text": [
      " Compute <X|F|0>:                                    0.000516 seconds   9.80e-04 Gb\n",
      " Cache zeroth-order Hamiltonian:                     0.006260 seconds   4.20e-02 Gb\n"
     ]
    },
    {
     "name": "stdout",
     "output_type": "stream",
     "text": [
      "  1\t3.34e-02\n"
     ]
    },
    {
     "name": "stdout",
     "output_type": "stream",
     "text": [
      "  2\t1.39e-02\n"
     ]
    },
    {
     "name": "stdout",
     "output_type": "stream",
     "text": [
      "  3\t6.84e-03\n"
     ]
    },
    {
     "name": "stdout",
     "output_type": "stream",
     "text": [
      "  4\t2.85e-03\n"
     ]
    },
    {
     "name": "stdout",
     "output_type": "stream",
     "text": [
      "  5\t7.84e-04\n"
     ]
    },
    {
     "name": "stdout",
     "output_type": "stream",
     "text": [
      "  6\t3.18e-04\n"
     ]
    },
    {
     "name": "stdout",
     "output_type": "stream",
     "text": [
      "  7\t1.29e-04\n"
     ]
    },
    {
     "name": "stdout",
     "output_type": "stream",
     "text": [
      "  8\t6.45e-05\n"
     ]
    },
    {
     "name": "stdout",
     "output_type": "stream",
     "text": [
      "  9\t3.13e-05\n"
     ]
    },
    {
     "name": "stdout",
     "output_type": "stream",
     "text": [
      " 10\t1.14e-05\n"
     ]
    },
    {
     "name": "stdout",
     "output_type": "stream",
     "text": [
      " 11\t4.81e-06\n"
     ]
    },
    {
     "name": "stdout",
     "output_type": "stream",
     "text": [
      " 12\t1.80e-06\n"
     ]
    },
    {
     "name": "stdout",
     "output_type": "stream",
     "text": [
      " 13\t9.42e-07\n"
     ]
    },
    {
     "name": "stdout",
     "output_type": "stream",
     "text": [
      " 14\t3.85e-07\n"
     ]
    },
    {
     "name": "stdout",
     "output_type": "stream",
     "text": [
      " 15\t1.78e-07\n"
     ]
    },
    {
     "name": "stdout",
     "output_type": "stream",
     "text": [
      " 16\t8.48e-08\n"
     ]
    },
    {
     "name": "stdout",
     "output_type": "stream",
     "text": [
      " 17\t3.62e-08\n"
     ]
    },
    {
     "name": "stdout",
     "output_type": "stream",
     "text": [
      " 18\t1.73e-08\n"
     ]
    },
    {
     "name": "stdout",
     "output_type": "stream",
     "text": [
      " 19\t8.20e-09\n",
      "\n",
      " Time to solve for PT1 with conjugate gradient:      0.570748 seconds   8.39e-01 Gb\n"
     ]
    },
    {
     "name": "stdout",
     "output_type": "stream",
     "text": [
      " Compute <0|H|1>:                                    0.052489 seconds   1.62e-02 Gb\n",
      " SxC[r]  -0.00000000 SxSx   1.00000000\n",
      " State   1: E(PT2) corr:                          -0.00992618\n",
      " State   1: E(PT2):                              -18.32703513\n"
     ]
    }
   ],
   "source": [
    "e_var, v = FermiCG.ci_solve(v_bst, cluster_ops, clustered_ham);\n",
    "\n",
    "s_bst = FermiCG.build_compressed_1st_order_state(v, cluster_ops, clustered_ham, nbody=4, thresh=1e-32)\n",
    "    \n",
    "# FermiCG.project_out!(s_bst, v, thresh=1e-32)\n",
    "# @show size(s_bst)\n",
    "# s_bst = FermiCG.compress(s_bst, thresh=1e-32)\n",
    "# @show size(s_bst)\n",
    "v_pt, e_pt = FermiCG.hylleraas_compressed_mp2(s_bst, v, cluster_ops, clustered_ham, tol=1e-8, verbose=1);"
   ]
  },
  {
   "cell_type": "code",
   "execution_count": 31,
   "metadata": {},
   "outputs": [
    {
     "name": "stdout",
     "output_type": "stream",
     "text": [
      " |== Solve for BST PT1 Wavefunction ================================\n",
      " H0          : Hcmf\n",
      " max_iter    : 50\n",
      " nbody       : "
     ]
    },
    {
     "name": "stdout",
     "output_type": "stream",
     "text": [
      "4\n",
      " thresh_foi  : 1.0e-64\n",
      " tol         : 1.0e-9\n",
      " opt_ref     : true\n",
      " verbose     : true\n",
      "\n",
      " Length of Reference:                                       1\n",
      " Solve zeroth-order problem:                       \n",
      " |== BST CI ========================================================\n",
      " Solve CI with # variables:                                 1\n",
      " Cache Hamiltonian:                                "
     ]
    },
    {
     "name": "stdout",
     "output_type": "stream",
     "text": [
      "  0.001978 seconds (4.08 k allocations: 30.747 MiB)\n"
     ]
    },
    {
     "name": "stdout",
     "output_type": "stream",
     "text": [
      " Iter:   1 SS: 1    E:  -18.31710895*  R: 0.0e+00*  LinDep: 0.0e+00* \n"
     ]
    },
    {
     "name": "stdout",
     "output_type": "stream",
     "text": [
      " Diagonalization time:                               0.000977 seconds\n",
      " Compute <S^2>:                                    "
     ]
    },
    {
     "name": "stdout",
     "output_type": "stream",
     "text": [
      "  0.000555 seconds (1.35 k allocations: 399.688 KiB)\n"
     ]
    },
    {
     "name": "stdout",
     "output_type": "stream",
     "text": [
      "  Root       Energy           S2\n",
      "     1 -18.31710895   0.00000000\n",
      " ==================================================================|\n",
      " Diagonalization time:                               0.005375 seconds\n",
      "\n",
      " Compute compressed FOIS:                          \n",
      " Number of tasks:                                         661\n",
      " Compute tasks:                                    \n",
      " Time building compressed vector:                    0.045779 seconds   6.24e-02 Gb GC: 0.0e+00 sec\n"
     ]
    },
    {
     "name": "stdout",
     "output_type": "stream",
     "text": [
      " Add results together:                               0.037346 seconds   1.76e-02 Gb GC: 0.0e+00 sec\n"
     ]
    },
    {
     "name": "stdout",
     "output_type": "stream",
     "text": [
      " Time spent building compressed FOIS:                0.083831 seconds\n",
      " FOIS Compressed from:                                  16396 → 16362      (thresh =  1.0e-64)\n"
     ]
    },
    {
     "name": "stdout",
     "output_type": "stream",
     "text": [
      " Overlap between <1|0>:                              0.000000 \n",
      " Compute PT vector. Reference space dim:                    1\n",
      " Length of input      FOIS:                             16362\n"
     ]
    },
    {
     "name": "stdout",
     "output_type": "stream",
     "text": [
      " Compute <X|V|0>:                                    0.009137 seconds   1.08e-02 Gb\n"
     ]
    },
    {
     "name": "stdout",
     "output_type": "stream",
     "text": [
      "  Root      <0|H|0>      <0|F|0>\n",
      "     1 -18.31710895 -10.81361409\n"
     ]
    },
    {
     "name": "stdout",
     "output_type": "stream",
     "text": [
      " Compute <X|F|0>:                                    0.000600 seconds   9.57e-04 Gb\n",
      " Cache zeroth-order Hamiltonian:                     0.005194 seconds   4.09e-02 Gb\n"
     ]
    },
    {
     "name": "stdout",
     "output_type": "stream",
     "text": [
      "  1\t3.34e-02\n"
     ]
    },
    {
     "name": "stdout",
     "output_type": "stream",
     "text": [
      "  2\t1.39e-02\n"
     ]
    },
    {
     "name": "stdout",
     "output_type": "stream",
     "text": [
      "  3\t6.84e-03\n"
     ]
    },
    {
     "name": "stdout",
     "output_type": "stream",
     "text": [
      "  4\t2.85e-03\n"
     ]
    },
    {
     "name": "stdout",
     "output_type": "stream",
     "text": [
      "  5\t7.84e-04\n"
     ]
    },
    {
     "name": "stdout",
     "output_type": "stream",
     "text": [
      "  6\t3.18e-04\n"
     ]
    },
    {
     "name": "stdout",
     "output_type": "stream",
     "text": [
      "  7\t1.29e-04\n"
     ]
    },
    {
     "name": "stdout",
     "output_type": "stream",
     "text": [
      "  8\t6.45e-05\n"
     ]
    },
    {
     "name": "stdout",
     "output_type": "stream",
     "text": [
      "  9\t3.13e-05\n"
     ]
    },
    {
     "name": "stdout",
     "output_type": "stream",
     "text": [
      " 10\t1.14e-05\n"
     ]
    },
    {
     "name": "stdout",
     "output_type": "stream",
     "text": [
      " 11\t4.81e-06\n"
     ]
    },
    {
     "name": "stdout",
     "output_type": "stream",
     "text": [
      " 12\t1.80e-06\n"
     ]
    },
    {
     "name": "stdout",
     "output_type": "stream",
     "text": [
      " 13\t9.42e-07\n",
      "\n",
      " Time to solve for PT1 with conjugate gradient:      0.388905 seconds   5.86e-01 Gb\n"
     ]
    },
    {
     "name": "stdout",
     "output_type": "stream",
     "text": [
      " Compute <0|H|1>:                                    0.027473 seconds   1.59e-02 Gb\n",
      " SxC[r]   0.00000000 SxSx   0.00000000\n",
      " State   1: E(PT2) corr:                          -0.00992618\n",
      " State   1: E(PT2):                              -18.32703513\n",
      " ==================================================================|\n"
     ]
    }
   ],
   "source": [
    "e_pt, v_pt = FermiCG.do_fois_pt2(v_bst, cluster_ops, clustered_ham, thresh_foi=1e-64, max_iter=50, tol=1e-9);"
   ]
  },
  {
   "cell_type": "markdown",
   "metadata": {},
   "source": [
    "# Pseudo-Canonicalization"
   ]
  },
  {
   "cell_type": "code",
   "execution_count": 45,
   "metadata": {},
   "outputs": [
    {
     "name": "stdout",
     "output_type": "stream",
     "text": [
      " |== BST CI ========================================================\n",
      " Solve CI with # variables:                                 1\n",
      " Cache Hamiltonian:                                "
     ]
    },
    {
     "name": "stdout",
     "output_type": "stream",
     "text": [
      "  0.015544 seconds (4.08 k allocations: 30.747 MiB, 90.85% gc time)\n"
     ]
    },
    {
     "name": "stdout",
     "output_type": "stream",
     "text": [
      " Iter:   1 SS: 1    E:  -18.31710895*  R: 0.0e+00*  LinDep: 0.0e+00* \n"
     ]
    },
    {
     "name": "stdout",
     "output_type": "stream",
     "text": [
      " Diagonalization time:                               0.000804 seconds\n",
      " Compute <S^2>:                                    "
     ]
    },
    {
     "name": "stdout",
     "output_type": "stream",
     "text": [
      "  0.000336 seconds (1.35 k allocations: 399.688 KiB)\n"
     ]
    },
    {
     "name": "stdout",
     "output_type": "stream",
     "text": [
      "  Root       Energy           S2\n",
      "     1 -18.31710895   0.00000000\n",
      " ==================================================================|\n",
      " Number of tasks:                                         661\n",
      " Compute tasks:                                    \n",
      " Time building compressed vector:                    0.047056 seconds   6.24e-02 Gb GC: 0.0e+00 sec\n"
     ]
    },
    {
     "name": "stdout",
     "output_type": "stream",
     "text": [
      " Add results together:                               0.036706 seconds   1.76e-02 Gb GC: 0.0e+00 sec\n"
     ]
    },
    {
     "name": "stdout",
     "output_type": "stream",
     "text": [
      " Length of input      FOIS:                             16396\n"
     ]
    },
    {
     "name": "stdout",
     "output_type": "stream",
     "text": [
      " Compute <X|H|0>:                                    0.009218 seconds   1.10e-02 Gb\n",
      "  Root      <0|H|0>      <0|F|0>\n",
      "     1 -18.31710895 -10.81361409\n",
      " Cache zeroth-order Hamiltonian:                     0.009218 seconds   1.10e-02 Gb\n",
      "1441.915395104241\n"
     ]
    },
    {
     "name": "stdout",
     "output_type": "stream",
     "text": [
      " Compute <0|H|1>:                                    0.028608 seconds   1.64e-02 Gb\n",
      " SxC[r]   0.00000000 SxSx   1.00000000\n",
      " State   1: E(PT2) corr:                          -0.00992618\n",
      " State   1: E(PT2):                              -18.32703513\n"
     ]
    }
   ],
   "source": [
    "e_var, v = FermiCG.ci_solve(v_bst, cluster_ops, clustered_ham);\n",
    "\n",
    "s_bst = FermiCG.build_compressed_1st_order_state(v, cluster_ops, clustered_ham, nbody=4, thresh=1e-64)\n",
    "    \n",
    "FermiCG.pseudo_canon_pt1(s_bst, v, cluster_ops, clustered_ham, verbose=1);\n",
    "# v_pt, e_pt = FermiCG.pseudo_canon_pt1(s_bst, v, cluster_ops, clustered_ham, tol=1e-8, verbose=1);\n"
   ]
  }
 ],
 "metadata": {
  "kernelspec": {
   "display_name": "Julia 1.7.2",
   "language": "julia",
   "name": "julia-1.7"
  },
  "language_info": {
   "file_extension": ".jl",
   "mimetype": "application/julia",
   "name": "julia",
   "version": "1.7.2"
  },
  "orig_nbformat": 4
 },
 "nbformat": 4,
 "nbformat_minor": 2
}
