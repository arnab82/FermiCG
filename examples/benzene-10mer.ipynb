{
 "cells": [
  {
   "cell_type": "code",
   "execution_count": 1,
   "id": "modular-bread",
   "metadata": {},
   "outputs": [
    {
     "name": "stderr",
     "output_type": "stream",
     "text": [
      "┌ Info: Precompiling FermiCG [855c3b3a-d9bb-4919-8b00-0b3cfbdffb6f]\n",
      "└ @ Base loading.jl:1278\n",
      "WARNING: using Random.rand! in module FermiCG conflicts with an existing identifier.\n"
     ]
    },
    {
     "data": {
      "text/plain": [
       "12"
      ]
     },
     "execution_count": 1,
     "metadata": {},
     "output_type": "execute_result"
    }
   ],
   "source": [
    "using FermiCG\n",
    "using PyCall\n",
    "using Plots\n",
    "using LinearAlgebra\n",
    "using Printf\n",
    "Threads.nthreads()"
   ]
  },
  {
   "cell_type": "code",
   "execution_count": null,
   "id": "reserved-remainder",
   "metadata": {},
   "outputs": [],
   "source": [
    "molecule = \"\n",
    "C         -1.11371       -0.09791       -0.81183\n",
    "H         -1.86105       -0.15829       -1.36216\n",
    "C         -0.11556       -1.08792       -0.86572\n",
    "H         -0.19716       -1.81683       -1.43759\n",
    "C         -0.97938        0.95193        0.05245\n",
    "H         -1.65161        1.59326        0.08980\n",
    "C          1.11371        0.09791        0.81183\n",
    "H          1.86105        0.15829        1.36216\n",
    "C          0.11556        1.08792        0.86572\n",
    "H          0.19716        1.81683        1.43759\n",
    "C          0.97938       -0.95193       -0.05245\n",
    "H          1.65161       -1.59326       -0.08980\n",
    "C         -3.80698       -0.09791        6.37253\n",
    "H         -4.55433       -0.15829        5.82221\n",
    "C         -2.80884       -1.08792        6.31865\n",
    "H         -2.89043       -1.81683        5.74677\n",
    "C         -3.67266        0.95193        7.23681\n",
    "H         -4.34488        1.59326        7.27417\n",
    "C         -1.57956        0.09791        7.99620\n",
    "H         -0.83222        0.15829        8.54652\n",
    "C         -2.57771        1.08792        8.05008\n",
    "H         -2.49611        1.81683        8.62195\n",
    "C         -1.71389       -0.95193        7.13192\n",
    "H         -1.04166       -1.59326        7.09456\n",
    "C         -1.11371        5.34169       -0.81183\n",
    "H         -1.86105        5.28131       -1.36216\n",
    "C         -0.11556        4.35168       -0.86572\n",
    "H         -0.19716        3.62277       -1.43759\n",
    "C         -0.97938        6.39153        0.05245\n",
    "H         -1.65161        7.03286        0.08980\n",
    "C          1.11371        5.53751        0.81183\n",
    "H          1.86105        5.59789        1.36216\n",
    "C          0.11556        6.52752        0.86572\n",
    "H          0.19716        7.25643        1.43759\n",
    "C          0.97938        4.48767       -0.05245\n",
    "H          1.65161        3.84634       -0.08980\n",
    "C         -3.80698        5.34169        6.37253\n",
    "H         -4.55433        5.28131        5.82221\n",
    "C         -2.80884        4.35168        6.31865\n",
    "H         -2.89043        3.62277        5.74677\n",
    "C         -3.67266        6.39153        7.23681\n",
    "H         -4.34488        7.03286        7.27417\n",
    "C         -1.57956        5.53751        7.99620\n",
    "H         -0.83222        5.59789        8.54652\n",
    "C         -2.57771        6.52752        8.05008\n",
    "H         -2.49611        7.25643        8.62195\n",
    "C         -1.71389        4.48767        7.13192\n",
    "H         -1.04166        3.84634        7.09456\n",
    "C          4.40829       -0.09791       -0.81183\n",
    "H          3.66094       -0.15829       -1.36216\n",
    "C          5.40644       -1.08792       -0.86572\n",
    "H          5.32484       -1.81683       -1.43759\n",
    "C          4.54262        0.95193        0.05245\n",
    "H          3.87039        1.59326        0.08980\n",
    "C          6.63571        0.09791        0.81183\n",
    "H          7.38305        0.15829        1.36216\n",
    "C          5.63756        1.08792        0.86572\n",
    "H          5.71916        1.81683        1.43759\n",
    "C          6.50138       -0.95193       -0.05245\n",
    "H          7.17361       -1.59326       -0.08980\n",
    "C          1.71502       -0.09791        6.37253\n",
    "H          0.96767       -0.15829        5.82221\n",
    "C          2.71316       -1.08792        6.31865\n",
    "H          2.63157       -1.81683        5.74677\n",
    "C          1.84934        0.95193        7.23681\n",
    "H          1.17712        1.59326        7.27417\n",
    "C          3.94244        0.09791        7.99620\n",
    "H          4.68978        0.15829        8.54652\n",
    "C          2.94429        1.08792        8.05008\n",
    "H          3.02589        1.81683        8.62195\n",
    "C          3.80811       -0.95193        7.13192\n",
    "H          4.48034       -1.59326        7.09456\n",
    "C          4.40829        5.34169       -0.81183\n",
    "H          3.66094        5.28131       -1.36216\n",
    "C          5.40644        4.35168       -0.86572\n",
    "H          5.32484        3.62277       -1.43759\n",
    "C          4.54262        6.39153        0.05245\n",
    "H          3.87039        7.03286        0.08980\n",
    "C          6.63571        5.53751        0.81183\n",
    "H          7.38305        5.59789        1.36216\n",
    "C          5.63756        6.52752        0.86572\n",
    "H          5.71916        7.25643        1.43759\n",
    "C          6.50138        4.48767       -0.05245\n",
    "H          7.17361        3.84634       -0.08980\n",
    "C          1.71502        5.34169        6.37253\n",
    "H          0.96767        5.28131        5.82221\n",
    "C          2.71316        4.35168        6.31865\n",
    "H          2.63157        3.62277        5.74677\n",
    "C          1.84934        6.39153        7.23681\n",
    "H          1.17712        7.03286        7.27417\n",
    "C          3.94244        5.53751        7.99620\n",
    "H          4.68978        5.59789        8.54652\n",
    "C          2.94429        6.52752        8.05008\n",
    "H          3.02589        7.25643        8.62195\n",
    "C          3.80811        4.48767        7.13192\n",
    "H          4.48034        3.84634        7.09456\n",
    "C         -0.23293        2.62189        4.40402\n",
    "H          0.51442        2.56151        4.95434\n",
    "C         -1.23107        1.63188        4.45790\n",
    "H         -1.14948        0.90297        5.02977\n",
    "C         -0.36725        3.67173        3.53974\n",
    "H          0.30498        4.31306        3.50238\n",
    "C         -2.46035        2.81771        2.78035\n",
    "H         -3.20769        2.87809        2.23003\n",
    "C         -1.46220        3.80772        2.72647\n",
    "H         -1.54380        4.53663        2.15459\n",
    "C         -2.32602        1.76787        3.64463\n",
    "H         -2.99825        1.12654        3.68199\n",
    "C          5.28907        2.62189        4.40402\n",
    "H          6.03642        2.56151        4.95434\n",
    "C          4.29093        1.63188        4.45790\n",
    "H          4.37252        0.90297        5.02977\n",
    "C          5.15475        3.67173        3.53974\n",
    "H          5.82698        4.31306        3.50238\n",
    "C          3.06165        2.81771        2.78035\n",
    "H          2.31431        2.87809        2.23003\n",
    "C          4.05980        3.80772        2.72647\n",
    "H          3.97820        4.53663        2.15459\n",
    "C          3.19598        1.76787        3.64463\n",
    "H          2.52375        1.12654        3.68199\n",
    "\"\n",
    "atoms = []\n",
    "for (li,line) in enumerate(split(rstrip(lstrip(molecule)), \"\\n\"))\n",
    "    l = split(line)\n",
    "    push!(atoms, Atom(li, l[1], parse.(Float64,l[2:4])))\n",
    "end\n",
    "\n",
    "cas_norb = 60\n",
    "cas_nel =60\n",
    "focc = 240\n",
    "\n",
    "basis = \"sto-3g\"\n",
    "# \n",
    "# Create FermiCG.Molecule type\n",
    "mol     = Molecule(0,1,atoms,basis)\n",
    "\n",
    "#SCF with relativistic effect\n",
    "pyscf = pyimport(\"pyscf\")\n",
    "# pyscf.lib.num_threads(1)\n",
    "\n",
    "\n",
    "pymol = pyscf.gto.Mole(atom=molecule,\n",
    "    symmetry = true,spin =0,charge=0,\n",
    "    basis = basis)\n",
    "\n",
    "\n",
    "pymol.build()\n",
    "print(\"symmetry: \",pymol.topgroup)\n",
    "# mf = pyscf.scf.UHF(pymol).x2c()\n",
    "mf = pyscf.scf.RHF(pymol)\n",
    "mf.verbose = 4\n",
    "mf.conv_tol = 1e-8\n",
    "mf.conv_tol_grad = 1e-5\n",
    "mf.chkfile = \"benzene_10mer_rhf.fchk\"\n",
    "# mf.init_guess = \"chkfile\"\n",
    "# mf = mf.density_fit()\n",
    "#mf.with_df.auxbasis = \"weigend\"\n",
    "mf.run(max_cycle=200)\n",
    "\n",
    "@printf(\" Hartree-Fock Energy: %12.8f\", mf.e_tot)"
   ]
  },
  {
   "cell_type": "code",
   "execution_count": null,
   "id": "spread-russell",
   "metadata": {},
   "outputs": [],
   "source": [
    "using JLD2\n",
    "C = mf.mo_coeff\n",
    "frz = [collect(1:120)...] # 1s,2s\n",
    "doc = [collect(121:160)..., collect(164:171)..., 177, 178, collect(181:190)...]\n",
    "act = [161, 162, 163, collect(172:176)..., 179, 180, collect(191:240)...]\n",
    "n_frz = length(frz)\n",
    "n_doc = length(doc)\n",
    "n_act = length(act)\n",
    "println(\" Number of frozen   orbitals: \", n_frz)\n",
    "println(\" Number of occupied orbitals: \", n_doc)\n",
    "println(\" Number of active   orbitals: \", n_act)\n",
    "println(\" Total: \", n_frz + n_doc + n_act)\n",
    "C_frz = C[:,frz]\n",
    "C_doc = C[:,doc]\n",
    "C_act = C[:,act]\n",
    "\n",
    "# Localize active space\n",
    "pyscflo = pyimport(\"pyscf.lo\")\n",
    "C_act = pyscflo.PM(pymol).kernel(C_act, verbose=0);\n",
    "\n",
    "\n",
    "FermiCG.pyscf_write_molden(mol, C, filename=\"benzene-10mer_rhf.molden\")\n",
    "FermiCG.pyscf_write_molden(mol, C_doc, filename=\"benzene-10mer_doc.molden\")\n",
    "FermiCG.pyscf_write_molden(mol, C_act, filename=\"benzene-10mer_act.molden\")\n",
    "@save \"benzene_10mer_rhf.jld2\" C C_frz C_doc C_act"
   ]
  },
  {
   "cell_type": "code",
   "execution_count": null,
   "id": "f829abe4",
   "metadata": {},
   "outputs": [],
   "source": []
  },
  {
   "cell_type": "code",
   "execution_count": null,
   "id": "neutral-attempt",
   "metadata": {},
   "outputs": [],
   "source": [
    "# get hcore\n",
    "# h,j,k = FermiCG.pyscf_get_jk(mol, Pa+Pb);\n",
    "fock = mf.get_fock()\n",
    "# hcore = pyscf.scf.hf.get_hcore(pymol)"
   ]
  },
  {
   "cell_type": "markdown",
   "id": "76f09f51",
   "metadata": {},
   "source": [
    "# Now cluster the active space"
   ]
  },
  {
   "cell_type": "code",
   "execution_count": null,
   "id": "362b590d",
   "metadata": {},
   "outputs": [],
   "source": [
    "using Clustering\n",
    "using SpectralClustering\n",
    "using Random\n",
    "Random.seed!(2)\n",
    "\n",
    "operator = C_act' * fock * C_act\n",
    "A = abs.(operator)\n",
    "L = Diagonal([sum(A[i,:]) for i in 1:size(A,1)]) - A;\n",
    "F = eigen(L);\n",
    "# display(L)\n",
    "\n",
    "# display(size(h_act))\n",
    "# p1 = heatmap(abs.(A), aspect_ratio=:equal, xlabel=\"Orbital\", ylabel= \"Orbital\", title=\"HCore\")\n",
    "# plot(p1)\n",
    "# savefig(\"clustering.pdf\")\n",
    "\n",
    "# for i in F.values\n",
    "#     println(i)\n",
    "# end\n",
    "p1 = plot(F.values)\n",
    "\n",
    "n_clusters = 10\n",
    "\n",
    "nvecs = n_clusters\n",
    "A = abs.(F.vectors[:,1:nvecs]*F.vectors[:,1:nvecs]')\n",
    "p2 = heatmap(abs.(A), aspect_ratio=:equal, xlabel=\"Orbital\", ylabel= \"Orbital\", title=\"proj\")\n",
    "\n",
    "\n",
    "clustering = clusterize(KMeansClusterizer(nvecs), A).assignments;\n",
    "perm = sortperm(clustering)\n",
    "p2 = heatmap(A, aspect_ratio=:equal, xlabel=\"Orbital\", ylabel= \"Orbital\", title=\"Projector\")\n",
    "# p2 = heatmap(A_act, aspect_ratio=:equal, xlabel=\"Orbital\", ylabel= \"Orbital\", title=\"Projector\", size = (500,500), dpi=300)\n",
    "A = A[perm, perm]\n",
    "p3 = heatmap(A, aspect_ratio=:equal, xlabel=\"Orbital\", ylabel= \"Orbital\", title=\"Projector\")\n",
    "# p3 = heatmap(A_act, aspect_ratio=:equal, xlabel=\"Orbital\", ylabel= \"Orbital\", title=\"Projector\", size = (500,500), dpi=300)\n",
    "\n",
    "C_act = C_act[:,perm]\n",
    "clustering = clustering[perm]\n",
    "\n",
    "# p4 = heatmap(A, aspect_ratio=:equal, xlabel=\"Orbital\", ylabel= \"Orbital\", title=\"F\")\n",
    "# p5 = heatmap(A[perm, perm], aspect_ratio=:equal, xlabel=\"Orbital\", ylabel= \"Orbital\", title=\"F\")\n",
    "\n",
    "\n",
    "FermiCG.pyscf_write_molden(mol, C_act, filename=\"benzene_10mer_act_sorted.molden\");\n",
    "\n",
    "\n",
    "clusters = [ [] for i in 1:n_clusters]\n",
    "for (idx,i) in enumerate(clustering)\n",
    "    push!(clusters[i],idx)\n",
    "end\n",
    "# define clusters\n",
    "clusters = [Cluster(i,collect(clusters[i])) for i = 1:length(clusters)]\n",
    "init_fspace = [ (3,3) for i in 1:n_clusters]\n",
    "display(clusters)\n",
    "\n",
    "\n",
    "plot(p1, p2, p3, layout = @layout [a ; b c])\n",
    "# savefig(\"clustering.pdf\")\n",
    "\n"
   ]
  },
  {
   "cell_type": "code",
   "execution_count": null,
   "id": "light-finnish",
   "metadata": {},
   "outputs": [],
   "source": [
    "#\n",
    "# Build Integrals\n",
    "ints = FermiCG.pyscf_build_ints(mol, C_act, 2*(C_doc*C_doc' + C_frz*C_frz'));\n",
    "@printf(\" Ecore: %12.8f\", ints.h0)\n"
   ]
  },
  {
   "cell_type": "code",
   "execution_count": null,
   "id": "7bdc82bb",
   "metadata": {},
   "outputs": [],
   "source": [
    "# HF Density Matrix in the active space\n",
    "Pao_a = tr(C_act' * mf.get_ovlp() *mf.mo_coeff[:,1:210]*mf.mo_coeff[:,1:210]'* mf.get_ovlp() * C_act)\n"
   ]
  },
  {
   "cell_type": "markdown",
   "id": "3ac09f93",
   "metadata": {},
   "source": [
    "# Optimize CMF orbitals"
   ]
  },
  {
   "cell_type": "code",
   "execution_count": null,
   "id": "prostate-mexican",
   "metadata": {
    "scrolled": true
   },
   "outputs": [],
   "source": [
    "\n",
    "rdm1 = Pao_a.*2.0\n",
    "\n",
    "e_cmf, U, Da, Db  = FermiCG.cmf_oo(ints, clusters, init_fspace, rdm1, rdm1,\n",
    "                                        max_iter_oo=50, verbose=0, gconv=1e-6, method=\"bfgs\");\n"
   ]
  },
  {
   "cell_type": "code",
   "execution_count": null,
   "id": "certified-dinner",
   "metadata": {},
   "outputs": [],
   "source": [
    "# Save molden file and rotate integrals\n",
    "C_cmf = C_act * U\n",
    "FermiCG.pyscf_write_molden(mol,C_cmf,filename=\"benzene_10mer_cmf.molden\");\n",
    "ints = FermiCG.orbital_rotation(ints,U);"
   ]
  },
  {
   "cell_type": "code",
   "execution_count": null,
   "id": "major-trigger",
   "metadata": {},
   "outputs": [],
   "source": [
    "@save \"benzene_10mer.jld2\" C C_frz C_doc C_act C_cmf fock ints Da Db clusters init_fspace"
   ]
  },
  {
   "cell_type": "code",
   "execution_count": 2,
   "id": "analyzed-sphere",
   "metadata": {},
   "outputs": [
    {
     "data": {
      "text/plain": [
       "11-element Array{Symbol,1}:\n",
       " :C\n",
       " :C_frz\n",
       " :C_doc\n",
       " :C_act\n",
       " :C_cmf\n",
       " :fock\n",
       " :ints\n",
       " :Da\n",
       " :Db\n",
       " :clusters\n",
       " :init_fspace"
      ]
     },
     "execution_count": 2,
     "metadata": {},
     "output_type": "execute_result"
    }
   ],
   "source": [
    "using JLD2\n",
    "@load  \"benzene_10mer.jld2\""
   ]
  },
  {
   "cell_type": "markdown",
   "id": "4847c5da",
   "metadata": {},
   "source": [
    "# Compute `cluster_bases` and `cluster_ops`"
   ]
  },
  {
   "cell_type": "code",
   "execution_count": 3,
   "id": "composite-sandwich",
   "metadata": {},
   "outputs": [],
   "source": [
    "\n",
    "max_roots = 100\n",
    "\n",
    "#\n",
    "# Build Cluster basis\n",
    "cluster_bases = FermiCG.compute_cluster_eigenbasis(ints, clusters, verbose=0, max_roots=max_roots,\n",
    "        init_fspace=init_fspace, rdm1a=Da, rdm1b=Db);"
   ]
  },
  {
   "cell_type": "code",
   "execution_count": 4,
   "id": "neither-carpet",
   "metadata": {},
   "outputs": [
    {
     "name": "stdout",
     "output_type": "stream",
     "text": [
      " Remove duplicates\n",
      " Number of terms reduced from 40150 to 16210\n"
     ]
    }
   ],
   "source": [
    "#\n",
    "# Build ClusteredOperator\n",
    "clustered_ham = FermiCG.extract_ClusteredTerms(ints, clusters);\n"
   ]
  },
  {
   "cell_type": "code",
   "execution_count": 5,
   "id": "accessible-titanium",
   "metadata": {},
   "outputs": [],
   "source": [
    "# Build Cluster Operators\n",
    "cluster_ops = FermiCG.compute_cluster_ops(cluster_bases, ints);"
   ]
  },
  {
   "cell_type": "code",
   "execution_count": 6,
   "id": "presidential-weapon",
   "metadata": {},
   "outputs": [],
   "source": [
    "# Add cmf hamiltonians for doing MP-style PT2 \n",
    "FermiCG.add_cmf_operators!(cluster_ops, cluster_bases, ints, Da, Db, verbose=0);"
   ]
  },
  {
   "cell_type": "markdown",
   "id": "ff5874aa",
   "metadata": {},
   "source": [
    "# Do TPSCI "
   ]
  },
  {
   "cell_type": "code",
   "execution_count": 7,
   "id": "995b626b",
   "metadata": {},
   "outputs": [
    {
     "name": "stdout",
     "output_type": "stream",
     "text": [
      " --------------------------------------------------\n",
      " ---------- Fockspaces in state ------: Dim =     1  \n",
      " ----------                root ------:     =     1  \n",
      " --------------------------------------------------\n",
      " Printing contributions greater than: 0.001000\n",
      " Weight              # Configs           Fock space(α,β)...  \n",
      " -------             ---------           ----------          \n",
      " --------------------------------------------------\n"
     ]
    }
   ],
   "source": [
    "nroots = 1\n",
    "ci_vector = FermiCG.ClusteredState(clusters, FermiCG.FockConfig(init_fspace), R=nroots);\n",
    "display(ci_vector)\n"
   ]
  },
  {
   "cell_type": "code",
   "execution_count": 8,
   "id": "80a1b16e",
   "metadata": {},
   "outputs": [
    {
     "name": "stdout",
     "output_type": "stream",
     "text": [
      " ci_vector     :(1, 1)\n",
      " thresh_cipsi  :0.001\n",
      " thresh_foi    :1.0e-5\n",
      " thresh_asci   :0.01\n",
      " max_iter      :10\n",
      " conv_thresh   :0.0001\n",
      "\n",
      "\n",
      " ===================================================================\n",
      "     Selected CI Iteration:    1 epsilon:   0.00100000\n",
      " ===================================================================\n",
      " Memory needed to hold full CI matrix:      8.0e-09 (Gb)\n",
      "\n",
      " |== Tensor Product State CI =======================================\n",
      " Hamiltonian matrix dimension =     1: \n",
      " Build full Hamiltonian matrix with dimension:       0.377193 seconds (741.92 k allocations: 37.447 MiB)\n",
      " Diagonalize:                                        0.000002 seconds (4 allocations: 320 bytes)\n",
      " Compute S2 expectation values:                      0.004899 seconds (366 allocations: 12.656 KiB)\n",
      "  Root       Energy           S2\n",
      "     1 -196.65729122   0.00000000\n",
      " ==================================================================|\n",
      " Length of ASCI vector        1 →        1 \n",
      " Norm of delta v:\n",
      "   1.00000000\n",
      " In open_matvec_thread2\n",
      "\n",
      " Number of jobs:    12421\n",
      " Number of threads: 12\n",
      " 39.415187 seconds (153.50 M allocations: 15.898 GiB, 5.72% gc time)\n",
      " Now collect thread results\n",
      " 39.741488 seconds (154.47 M allocations: 15.989 GiB, 5.77% gc time)\n",
      " Length of FOIS vector: 225859\n",
      " Length of FOIS vector: 225858\n",
      " Compute diagonal\n",
      "  0.642190 seconds (9.26 M allocations: 143.873 MiB, 33.72% gc time)\n",
      "\n",
      "  Root         E(0)         E(2)\n",
      "     1 -196.65729122 -196.68445372\n",
      " Length of PT1  vector   225858 →     1183 \n",
      " TPSCI Iter 1   Dim: 1      E(var): -196.65729122 \n",
      "\n",
      "\n",
      " ===================================================================\n",
      "     Selected CI Iteration:    2 epsilon:   0.00100000\n",
      " ===================================================================\n",
      " Clip values < -1.0e+00              1 →      1\n",
      " Add pt vector to current space      1 →   1184\n",
      " Memory needed to hold full CI matrix:      1.1e-02 (Gb)\n",
      "\n",
      " |== Tensor Product State CI =======================================\n",
      " Hamiltonian matrix dimension =  1184: \n",
      " Build full Hamiltonian matrix with dimension:       1.404627 seconds (12.66 M allocations: 411.349 MiB, 4.70% gc time)\n",
      " Diagonalize:                                        0.685456 seconds (1.48 M allocations: 78.302 MiB, 4.27% gc time)\n",
      " Compute S2 expectation values:                      0.790029 seconds (3.32 M allocations: 126.864 MiB, 4.64% gc time)\n",
      "  Root       Energy           S2\n",
      "     1 -196.68437505   0.00000000\n",
      " ==================================================================|\n",
      " Length of ASCI vector     1184 →       53 \n",
      " Norm of delta v:\n",
      "   0.09539786\n",
      " In open_matvec_thread2\n",
      "\n",
      " Number of jobs:    296625\n",
      " Number of threads: 12\n",
      "139.786067 seconds (31.28 M allocations: 2.169 GiB, 0.83% gc time)\n",
      " Now collect thread results\n",
      "141.872832 seconds (35.60 M allocations: 2.641 GiB, 1.28% gc time)\n",
      " Length of FOIS vector: 476295\n",
      " Length of FOIS vector: 476242\n",
      " Compute diagonal\n",
      "  0.965476 seconds (19.52 M allocations: 305.819 MiB)\n",
      "\n",
      "  Root         E(0)         E(2)\n",
      "     1 -196.68437505 -196.70170072\n",
      " Length of PT1  vector   476242 →     1199 \n",
      " TPSCI Iter 2   Dim: 1184   E(var): -196.68437505 \n",
      "\n",
      "\n",
      " ===================================================================\n",
      "     Selected CI Iteration:    3 epsilon:   0.00100000\n",
      " ===================================================================\n",
      " Clip values < -1.0e+00           1184 →   1184\n",
      " Add pt vector to current space   1184 →   1252\n",
      " Memory needed to hold full CI matrix:      1.3e-02 (Gb)\n",
      "\n",
      " |== Tensor Product State CI =======================================\n",
      " Hamiltonian matrix dimension =  1252: \n",
      " Build full Hamiltonian matrix with dimension:       1.411963 seconds (12.76 M allocations: 374.630 MiB, 24.80% gc time)\n",
      " Diagonalize:                                        0.012164 seconds (296 allocations: 260.297 KiB)\n",
      " Compute S2 expectation values:                      0.942120 seconds (4.08 M allocations: 157.352 MiB, 3.15% gc time)\n",
      "  Root       Energy           S2\n",
      "     1 -196.68459812   0.00000000\n",
      " ==================================================================|\n",
      " Length of ASCI vector     1252 →       57 \n",
      " Norm of delta v:\n",
      "   0.02005792\n",
      " In open_matvec_thread2\n",
      "\n",
      " Number of jobs:    296625\n",
      " Number of threads: 12\n",
      " 14.331606 seconds (15.46 M allocations: 987.985 MiB)\n",
      " Now collect thread results\n",
      " 16.981873 seconds (18.91 M allocations: 1.387 GiB, 7.99% gc time)\n",
      " Length of FOIS vector: 487757\n",
      " Length of FOIS vector: 487700\n",
      " Compute diagonal\n",
      "  1.558266 seconds (19.99 M allocations: 313.142 MiB, 45.16% gc time)\n",
      "\n",
      "  Root         E(0)         E(2)\n",
      "     1 -196.68459812 -196.70151018\n",
      " Length of PT1  vector   487700 →     1197 \n",
      " TPSCI Iter 3   Dim: 1252   E(var): -196.68459812 \n",
      "\n",
      "\n",
      " ===================================================================\n",
      "     Selected CI Iteration:    4 epsilon:   0.00100000\n",
      " ===================================================================\n",
      " Clip values < -1.0e+00           1252 →   1252\n",
      " Add pt vector to current space   1252 →   1256\n",
      " Memory needed to hold full CI matrix:      1.3e-02 (Gb)\n",
      "\n",
      " |== Tensor Product State CI =======================================\n",
      " Hamiltonian matrix dimension =  1256: \n",
      " Build full Hamiltonian matrix with dimension:       1.067808 seconds (12.91 M allocations: 378.810 MiB, 6.32% gc time)\n",
      " Diagonalize:                                        0.012617 seconds (296 allocations: 260.984 KiB)\n",
      " Compute S2 expectation values:                      0.984282 seconds (4.13 M allocations: 159.518 MiB, 3.19% gc time)\n",
      "  Root       Energy           S2\n",
      "     1 -196.68460590   0.00000000\n",
      " ==================================================================|\n",
      " Length of ASCI vector     1256 →       57 \n",
      " Norm of delta v:\n",
      "   0.00006549\n",
      " In open_matvec_thread2\n",
      "\n",
      " Number of jobs:    296625\n",
      " Number of threads: 12\n",
      "  3.271326 seconds (14.79 M allocations: 936.884 MiB)\n",
      " Now collect thread results\n",
      "  5.734320 seconds (18.18 M allocations: 1.333 GiB, 21.86% gc time)\n",
      " Length of FOIS vector: 487757\n",
      " Length of FOIS vector: 487700\n",
      " Compute diagonal\n",
      "  1.599243 seconds (19.99 M allocations: 313.142 MiB, 44.01% gc time)\n",
      "\n",
      "  Root         E(0)         E(2)\n",
      "     1 -196.68460590 -196.70151825\n",
      " Length of PT1  vector   487700 →     1197 \n",
      "*TPSCI Iter 4   Dim: 1256   E(var): -196.68460590 \n"
     ]
    }
   ],
   "source": [
    "e0, v0 = FermiCG.tpsci_ci(ci_vector, cluster_ops, clustered_ham,\n",
    "                            thresh_cipsi=1e-3, # Threshold for adding to P-space\n",
    "                            thresh_foi=1e-5,    # Threshold for keeping terms when defining FOIS    \n",
    "                            thresh_asci=1e-2,     # Threshold of P-space configs to search from\n",
    "                            max_iter=10,\n",
    "                            matvec=3);\n"
   ]
  },
  {
   "cell_type": "code",
   "execution_count": 9,
   "id": "assumed-steps",
   "metadata": {},
   "outputs": [
    {
     "name": "stdout",
     "output_type": "stream",
     "text": [
      " --------------------------------------------------\n",
      " ---------- Fockspaces in state ------: Dim =     1  \n",
      " ----------                root ------:     =     1  \n",
      " --------------------------------------------------\n",
      " Printing contributions greater than: 0.001000\n",
      " Weight              # Configs           Fock space(α,β)...  \n",
      " -------             ---------           ----------          \n",
      " 1.000               1                   ( 3,3 )( 3,3 )( 3,3 )( 3,3 )( 3,3 )( 3,3 )( 3,3 )( 3,3 )( 3,3 )( 3,3 )\n",
      " --------------------------------------------------\n"
     ]
    }
   ],
   "source": [
    "FermiCG.rand!(ci_vector)\n",
    "display(ci_vector)"
   ]
  },
  {
   "cell_type": "code",
   "execution_count": 10,
   "id": "clear-setup",
   "metadata": {},
   "outputs": [
    {
     "name": "stdout",
     "output_type": "stream",
     "text": [
      "\n",
      " |........................do batched PT2............................\n",
      " Norms of input states:\n",
      "   1.00000000\n",
      " Compute <0|H0|0>:                                   0.207146 seconds (193.38 k allocations: 9.315 MiB)\n",
      " Compute <0|H|0>:                                    0.004055 seconds (449 allocations: 14.703 KiB)\n",
      " Number of jobs:    12421\n",
      " Number of threads: 12\n",
      "||\n",
      " Time spent computing E2       1597.2 (s)\n",
      "  Root         E(0)         E(2)\n",
      "     1 -196.65729122 -196.68442567\n",
      " ..................................................................|\n",
      "1598.291286 seconds (81.91 G allocations: 1.415 TiB, 34.01% gc time)\n"
     ]
    }
   ],
   "source": [
    "@time ept_a = FermiCG.compute_batched_pt2(ci_vector, cluster_ops, clustered_ham, thresh_foi=1e-10);"
   ]
  },
  {
   "cell_type": "code",
   "execution_count": null,
   "id": "macro-judge",
   "metadata": {},
   "outputs": [
    {
     "name": "stdout",
     "output_type": "stream",
     "text": [
      "\n",
      " |............................do PT2................................\n",
      " Norms of input states\n",
      "   1.00000000\n",
      " Compute FOIS vector\n",
      "                                In open_matvec_thread2\n",
      "\n",
      " Number of jobs:    12421\n",
      " Number of threads: 12\n",
      "2973.825640 seconds (2.03 G allocations: 158.930 GiB, 85.14% gc time)\n",
      " Now collect thread results\n"
     ]
    }
   ],
   "source": [
    "@time ept_a, vpta = FermiCG.compute_pt2(ci_vector, cluster_ops, clustered_ham, thresh_foi=1e-10);"
   ]
  },
  {
   "cell_type": "code",
   "execution_count": null,
   "id": "d3a9c679",
   "metadata": {},
   "outputs": [],
   "source": [
    "@time ept_a = FermiCG.compute_batched_pt2(v0, cluster_ops, clustered_ham, thresh_foi=1e-8);"
   ]
  },
  {
   "cell_type": "code",
   "execution_count": null,
   "id": "3a4d400f",
   "metadata": {},
   "outputs": [],
   "source": [
    "@time ept_a, vpta = FermiCG.compute_pt2(v0, cluster_ops, clustered_ham, thresh_foi=1e-8);"
   ]
  },
  {
   "cell_type": "code",
   "execution_count": null,
   "id": "a3f254e9",
   "metadata": {},
   "outputs": [],
   "source": []
  }
 ],
 "metadata": {
  "kernelspec": {
   "display_name": "Julia 1.5.2",
   "language": "julia",
   "name": "julia-1.5"
  },
  "language_info": {
   "file_extension": ".jl",
   "mimetype": "application/julia",
   "name": "julia",
   "version": "1.5.2"
  }
 },
 "nbformat": 4,
 "nbformat_minor": 5
}
