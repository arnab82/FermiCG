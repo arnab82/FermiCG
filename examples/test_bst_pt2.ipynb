{
 "cells": [
  {
   "cell_type": "code",
   "execution_count": 67,
   "metadata": {},
   "outputs": [
    {
     "name": "stdout",
     "output_type": "stream",
     "text": [
      " Remove duplicates\n",
      " Number of terms reduced from  2525 to  1105\n",
      "IDX001:DIM0016:001|002|\n",
      "IDX002:DIM0016:003|004|\n",
      "IDX003:DIM0256:005|006|007|008|\n",
      "IDX004:DIM0016:009|010|\n",
      "IDX005:DIM0016:011|012|\n",
      " Number of tasks:                                         661\n",
      " Compute tasks:                                      0.130973 seconds (607.76 k allocations: 59.509 MiB)\n",
      " Add results together:                               0.046393 seconds (86.61 k allocations: 16.596 MiB, 37.96% gc time)\n",
      " In open_matvec_thread\n",
      " Setup threaded jobs:                                0.000166 seconds (1.58 k allocations: 145.469 KiB)\n",
      " Number of jobs:    525\n",
      " Number of threads: 1\n",
      " Compute matrix-vector:                              0.015623 seconds (78.87 k allocations: 6.587 MiB)\n",
      " Now collect thread results :                        0.000162 seconds (1.06 k allocations: 64.359 KiB)\n",
      "size(s_bst) = (16278, 1)\n",
      "size(s_tps) = (49378, 1)\n"
     ]
    }
   ],
   "source": [
    "using FermiCG\n",
    "using Printf\n",
    "using Test\n",
    "using JLD2 \n",
    "\n",
    "@load \"../test/_testdata_cmf_h12_64bit.jld2\"\n",
    "\n",
    "clustered_ham = FermiCG.extract_ClusteredTerms(ints, clusters)\n",
    "cluster_ops = FermiCG.compute_cluster_ops(cluster_bases, ints);\n",
    "FermiCG.add_cmf_operators!(cluster_ops, cluster_bases, ints, d1.a, d1.b);\n",
    "\n",
    "v_bst = FermiCG.BSTstate(clusters, FockConfig(init_fspace), cluster_bases)\n",
    "v_tps = FermiCG.TPSCIstate(clusters, FockConfig(init_fspace))\n",
    "FermiCG.eye!(v_tps)\n",
    "\n",
    "s_bst = FermiCG.build_compressed_1st_order_state(v_bst, cluster_ops, clustered_ham, nbody=4, thresh=1e-24)\n",
    "s_tps = FermiCG.open_matvec_thread(v_tps, cluster_ops, clustered_ham, thresh=1e-32)\n",
    "\n",
    "@show size(s_bst);\n",
    "@show size(s_tps);\n",
    "\n",
    "\n",
    "\n"
   ]
  },
  {
   "attachments": {},
   "cell_type": "markdown",
   "metadata": {},
   "source": [
    "# BST PT2"
   ]
  },
  {
   "cell_type": "code",
   "execution_count": 105,
   "metadata": {},
   "outputs": [
    {
     "name": "stdout",
     "output_type": "stream",
     "text": [
      " |== BST CI ========================================================\n",
      " Solve CI with # variables:                                 1\n",
      " Cache Hamiltonian:                                  0.002220 seconds (3.98 k allocations: 7.854 MiB)\n",
      " Iter:   1 SS: 1    E:  -18.31710895*  R: 0.0e+00*  LinDep: 0.0e+00* \n",
      " Diagonalization time:                               0.001623 seconds\n",
      " Compute <S^2>:                                      0.000447 seconds (1.29 k allocations: 158.047 KiB)\n",
      "  Root       Energy           S2\n",
      "     1 -18.31710895   0.00000000\n",
      " ==================================================================|\n",
      " |== Compute PT2 Energy ============================================\n",
      " H0          : Hcmf\n",
      " max_iter    : 100\n",
      " nbody       : 4\n",
      " thresh_foi  : 1.0e-32\n",
      " max_number  : nothing\n",
      " tol         : 1.0e-12\n",
      " opt_ref     : true\n",
      " verbose     : 1\n",
      "\n",
      " Length of Reference:                                       1\n",
      " Solve zeroth-order problem:                       \n",
      " |== BST CI ========================================================\n",
      " Solve CI with # variables:                                 1\n",
      " Cache Hamiltonian:                                  0.001863 seconds (3.98 k allocations: 7.854 MiB)\n",
      " Iter:   1 SS: 1    E:  -18.31710895*  R: 0.0e+00*  LinDep: 0.0e+00* \n",
      " Diagonalization time:                               0.001084 seconds\n",
      " Compute <S^2>:                                      0.000383 seconds (1.29 k allocations: 158.047 KiB)\n",
      "  Root       Energy           S2\n",
      "     1 -18.31710895   0.00000000\n",
      " ==================================================================|\n",
      " Diagonalization time:                               0.005457 seconds\n",
      " Compute <0|H0|0>:                                   0.000297 seconds (673 allocations: 128.047 KiB)\n",
      "  Root      <0|H|0>      <0|F|0>\n",
      "     1 -18.31710895 -10.81361409\n",
      " Number of jobs:    525\n",
      " Number of threads: 1\n",
      " |----------------------------------------------------------------------------------------------------|\n",
      " |0%                                                                                              100%|\n",
      " |----------------------------------------------------------------------------------------------------|\n",
      " Time spent computing E2:                               1.7 s Allocated:    6.7e-01 GB\n",
      " State   1: E(PT2) corr:                          -0.00992612\n",
      " State   1: E(PT2):                              -18.32703507\n",
      " ==================================================================|\n"
     ]
    }
   ],
   "source": [
    "e_var = FermiCG.ci_solve(v_bst, cluster_ops, clustered_ham);\n",
    "e_pt = FermiCG.compute_pt2_energy(v_bst, cluster_ops, clustered_ham, thresh_foi=1e-32, max_iter=100, tol=1e-12, verbose=1);"
   ]
  },
  {
   "cell_type": "code",
   "execution_count": 132,
   "metadata": {},
   "outputs": [
    {
     "name": "stdout",
     "output_type": "stream",
     "text": [
      " |== BST CI ========================================================\n",
      " Solve CI with # variables:                                 1\n",
      " Cache Hamiltonian:                                  0.002995 seconds (3.98 k allocations: 7.854 MiB)\n",
      " Iter:   1 SS: 1    E:  -18.31710895*  R: 0.0e+00*  LinDep: 0.0e+00* \n",
      " Diagonalization time:                               0.001195 seconds\n",
      " Compute <S^2>:                                      0.000391 seconds (1.29 k allocations: 158.047 KiB)\n",
      "  Root       Energy           S2\n",
      "     1 -18.31710895   0.00000000\n",
      " ==================================================================|\n",
      " Number of tasks:                                         661\n",
      " Compute tasks:                                      0.125504 seconds (607.76 k allocations: 59.522 MiB)\n",
      " Add results together:                               0.026203 seconds (86.61 k allocations: 16.755 MiB)\n",
      " Length of input      FOIS:                             16382\n",
      " Build exact <X|V|0>:                                0.027447 seconds (131.54 k allocations: 10.171 MiB)\n",
      " Compute <0|H0|0>:                                   0.000205 seconds (515 allocations: 112.578 KiB)\n",
      "  Root      <0|H|0>      <0|F|0>\n",
      "     1 -18.31710895 -10.81361409\n",
      " Compute <X|F|0>:                                    0.000855 seconds (8.35 k allocations: 722.812 KiB)\n",
      " Cache zeroth-order Hamiltonian:                     0.006327 seconds (71.54 k allocations: 16.150 MiB)\n",
      " Time to solve for PT1 with conjugate gradient:      1.407620 seconds\n",
      " Compute <0|H|1>:                                    0.056637 seconds (261.07 k allocations: 15.587 MiB, 27.89% gc time)\n",
      " State   1: E(PT2) corr:                           0.01193460\n",
      " State   1: E(PT2):                              -18.30517434\n"
     ]
    }
   ],
   "source": [
    "e_var, v = FermiCG.ci_solve(v_bst, cluster_ops, clustered_ham);\n",
    "\n",
    "s_bst = FermiCG.build_compressed_1st_order_state(v, cluster_ops, clustered_ham, nbody=4, thresh=1e-32)\n",
    "    \n",
    "# FermiCG.project_out!(s_bst, v, thresh=1e-32)\n",
    "# @show size(s_bst)\n",
    "# s_bst = FermiCG.compress(s_bst, thresh=1e-32)\n",
    "# @show size(s_bst)\n",
    "v_pt, e_pt = FermiCG.hylleraas_compressed_mp2a(s_bst, v, cluster_ops, clustered_ham, tol=1e-8);"
   ]
  },
  {
   "cell_type": "code",
   "execution_count": 133,
   "metadata": {},
   "outputs": [
    {
     "name": "stdout",
     "output_type": "stream",
     "text": [
      " |== Solve for BST PT1 Wavefunction ================================\n",
      " H0          : Hcmf\n",
      " max_iter    : 50\n",
      " nbody       : 4\n",
      " thresh_foi  : 1.0e-64\n",
      " tol         : 1.0e-8\n",
      " opt_ref     : true\n",
      " verbose     : true\n",
      "\n",
      " Length of Reference:                                       1\n",
      " Solve zeroth-order problem:                       \n",
      " |== BST CI ========================================================\n",
      " Solve CI with # variables:                                 1\n",
      " Cache Hamiltonian:                                  0.001835 seconds (3.98 k allocations: 7.854 MiB)\n",
      " Iter:   1 SS: 1    E:  -18.31710895*  R: 0.0e+00*  LinDep: 0.0e+00* \n",
      " Diagonalization time:                               0.001369 seconds\n",
      " Compute <S^2>:                                      0.000409 seconds (1.29 k allocations: 158.047 KiB)\n",
      "  Root       Energy           S2\n",
      "     1 -18.31710895   0.00000000\n",
      " ==================================================================|\n",
      " Diagonalization time:                               0.006073 seconds\n",
      "\n",
      " Compute compressed FOIS:                          \n",
      " Number of tasks:                                         661\n",
      " Compute tasks:                                      0.117011 seconds (607.76 k allocations: 59.522 MiB)\n",
      " Add results together:                               0.048058 seconds (86.61 k allocations: 16.755 MiB, 45.93% gc time)\n",
      " Time spent building compressed FOIS:                0.165871 seconds\n",
      " FOIS Compressed from:                                  16382 → 16338      (thresh =  1.0e-64)\n",
      " Overlap between <1|0>:                              0.000000 \n",
      " Compute PT vector. Reference space dim:                    1\n",
      " Length of input      FOIS:                             16338\n",
      " Build exact <X|V|0>:                                0.026881 seconds (127.67 k allocations: 9.935 MiB)\n",
      " Compute <0|H0|0>:                                   0.000199 seconds (515 allocations: 112.578 KiB)\n",
      "  Root      <0|H|0>      <0|F|0>\n",
      "     1 -18.31710895 -10.81361409\n",
      " Compute <X|F|0>:                                    0.001001 seconds (7.97 k allocations: 699.812 KiB)\n",
      " Cache zeroth-order Hamiltonian:                     0.006779 seconds (70.73 k allocations: 16.087 MiB)\n",
      " Time to solve for PT1 with conjugate gradient:      1.061771 seconds\n",
      " Compute <0|H|1>:                                    0.054112 seconds (274.36 k allocations: 16.096 MiB)\n",
      " State   1: E(PT2) corr:                          -0.00992613\n",
      " State   1: E(PT2):                              -18.32703508\n",
      " ==================================================================|\n"
     ]
    }
   ],
   "source": [
    "e_pt, v_pt = FermiCG.do_fois_pt2(v_bst, cluster_ops, clustered_ham, thresh_foi=1e-64, max_iter=50, tol=1e-8);"
   ]
  },
  {
   "cell_type": "code",
   "execution_count": 112,
   "metadata": {},
   "outputs": [
    {
     "data": {
      "text/plain": [
       "11.795261590783612"
      ]
     },
     "execution_count": 112,
     "metadata": {},
     "output_type": "execute_result"
    }
   ],
   "source": [
    "ints.h0"
   ]
  },
  {
   "cell_type": "markdown",
   "metadata": {},
   "source": [
    "# TPSCI PT2"
   ]
  },
  {
   "cell_type": "code",
   "execution_count": 18,
   "metadata": {},
   "outputs": [
    {
     "name": "stdout",
     "output_type": "stream",
     "text": [
      " Number of tasks:                                         661\n",
      " Compute tasks:                                      0.077710 seconds (597.90 k allocations: 56.236 MiB)\n",
      " Add results together:                             "
     ]
    },
    {
     "name": "stdout",
     "output_type": "stream",
     "text": [
      "  0.016173 seconds (85.70 k allocations: 9.271 MiB)\n"
     ]
    },
    {
     "name": "stdout",
     "output_type": "stream",
     "text": [
      "\n",
      " --------------------------------------------------\n",
      " ---------- # Fockspaces -------------------:   485  \n",
      " ---------- # Configs    -------------------:  5500  \n",
      " ---------- Root ---------------------------:     1  \n",
      " --------------------------------------------------\n",
      " Printing contributions greater than: 0.010000\n",
      " Weight              # configs (full)    (α,β)...            \n",
      " -------             --------- --------- ----------          \n",
      " 0.027                                   ( 1,1 )( 2,1 )( 1,2 )( 1,1 )( 1,1 )\n",
      "     0.027           16        48            1:1    1:2   1:24    1:1    1:1\n",
      " ---------                               ----------          \n",
      " 0.028                                   ( 1,1 )( 0,1 )( 3,2 )( 1,1 )( 1,1 )\n",
      "     0.027           16        48            1:1    1:2   1:24    1:1    1:1\n",
      " ---------                               ----------          \n",
      " 0.027                                   ( 2,1 )( 0,1 )( 2,2 )( 1,1 )( 1,1 )\n",
      "     0.026           4         4             1:2    1:2    1:1    1:1    1:1\n",
      " ---------                               ----------          \n",
      " 0.027                                   ( 1,1 )( 1,1 )( 2,2 )( 0,1 )( 2,1 )\n",
      "     0.026           4         4             1:1    1:1    1:1    1:2    1:2\n",
      " ---------                               ----------          \n",
      " 0.028                                   ( 1,1 )( 1,0 )( 2,3 )( 1,1 )( 1,1 )\n",
      "     0.027           16        48            1:1    1:2   1:24    1:1    1:1\n",
      " ---------                               ----------          \n",
      " 0.026                                   ( 1,0 )( 1,2 )( 2,2 )( 1,1 )( 1,1 )\n",
      "     0.026           4         4             1:2    1:2    1:1    1:1    1:1\n",
      " ---------                               ----------          \n",
      " 18.317                                  ( 1,1 )( 1,1 )( 2,2 )( 1,1 )( 1,1 )\n",
      "     18.317          1         1             1:1    1:1    1:1    1:1    1:1\n",
      "     0.024           9         9             1:1    1:1    1:1    2:4    2:4\n",
      "     0.026           9         105           1:1    2:4   2:36    1:1    1:1\n",
      "     0.026           9         105           1:1    1:1   2:36    2:4    1:1\n",
      "     0.024           9         9             2:4    2:4    1:1    1:1    1:1\n",
      " ---------                               ----------          \n",
      " 0.027                                   ( 1,1 )( 1,2 )( 2,1 )( 1,1 )( 1,1 )\n",
      "     0.027           16        48            1:1    1:2   1:24    1:1    1:1\n",
      " ---------                               ----------          \n",
      " 0.027                                   ( 1,1 )( 1,1 )( 2,1 )( 1,2 )( 1,1 )\n",
      "     0.027           16        48            1:1    1:1   1:24    1:2    1:1\n",
      " ---------                               ----------          \n",
      " 0.026                                   ( 1,1 )( 1,1 )( 2,2 )( 1,2 )( 1,0 )\n",
      "     0.026           4         4             1:1    1:1    1:1    1:2    1:2\n",
      " ---------                               ----------          \n",
      " 0.027                                   ( 1,1 )( 1,1 )( 1,2 )( 2,1 )( 1,1 )\n",
      "     0.027           16        48            1:1    1:1   1:24    1:2    1:1\n",
      " ---------                               ----------          \n",
      " 0.028                                   ( 1,1 )( 1,1 )( 2,3 )( 1,0 )( 1,1 )\n",
      "     0.027           16        48            1:1    1:1   1:24    1:2    1:1\n",
      " ---------                               ----------          \n",
      " 0.026                                   ( 0,1 )( 2,1 )( 2,2 )( 1,1 )( 1,1 )\n",
      "     0.026           4         4             1:2    1:2    1:1    1:1    1:1\n",
      " ---------                               ----------          \n",
      " 0.027                                   ( 1,2 )( 1,0 )( 2,2 )( 1,1 )( 1,1 )\n",
      "     0.026           4         4             1:2    1:2    1:1    1:1    1:1\n",
      " ---------                               ----------          \n",
      " 0.027                                   ( 1,1 )( 1,1 )( 2,2 )( 1,0 )( 1,2 )\n",
      "     0.026           4         4             1:1    1:1    1:1    1:2    1:2\n",
      " ---------                               ----------          \n",
      " 0.028                                   ( 1,1 )( 1,1 )( 3,2 )( 0,1 )( 1,1 )\n",
      "     0.027           16        48            1:1    1:1   1:24    1:2    1:1\n",
      " ---------                               ----------          \n",
      " 0.026                                   ( 1,1 )( 1,1 )( 2,2 )( 2,1 )( 0,1 )\n",
      "     0.026           4         4             1:1    1:1    1:1    1:2    1:2\n",
      " ---------                               ----------          \n",
      " --------------------------------------------------\n",
      "\n"
     ]
    }
   ],
   "source": [
    "function pt1(ψ, cluster_ops, clustered_ham)\n",
    "    σ = FermiCG.build_compressed_1st_order_state(ψ, cluster_ops, clustered_ham, nbody=4, thresh=1e-6)\n",
    "    \n",
    "end\n",
    "pt1(ψ, cluster_ops, clustered_ham)"
   ]
  },
  {
   "cell_type": "code",
   "execution_count": null,
   "metadata": {},
   "outputs": [],
   "source": []
  }
 ],
 "metadata": {
  "kernelspec": {
   "display_name": "Julia 1.7.2",
   "language": "julia",
   "name": "julia-1.7"
  },
  "language_info": {
   "file_extension": ".jl",
   "mimetype": "application/julia",
   "name": "julia",
   "version": "1.7.2"
  },
  "orig_nbformat": 4
 },
 "nbformat": 4,
 "nbformat_minor": 2
}
